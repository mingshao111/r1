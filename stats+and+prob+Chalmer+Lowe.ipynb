{
 "cells": [
  {
   "cell_type": "code",
   "execution_count": 1,
   "metadata": {},
   "outputs": [
    {
     "name": "stderr",
     "output_type": "stream",
     "text": [
      "'git' is not recognized as an internal or external command,\n",
      "operable program or batch file.\n"
     ]
    }
   ],
   "source": [
    "!git clone https://github.com/chalmerlowe/stats_and_probability.git\n"
   ]
  },
  {
   "cell_type": "code",
   "execution_count": 3,
   "metadata": {},
   "outputs": [],
   "source": [
    "%matplotlib inline\n",
    "import matplotlib.pyplot as plt\n",
    "from collections import Counter\n",
    "import numpy as np\n",
    "np.array([int(n) for n in list(np.random.rand(200)*100)])"
   ]
  },
  {
   "cell_type": "code",
   "execution_count": 17,
   "metadata": {},
   "outputs": [],
   "source": [
    "num_defects=[90,87,85,82,84,89,77,79,66,65,65,65,64,63,63,64,64,62,\n",
    "             63,63,62,62,60,60,60,60,61,63,63,63,62,62,60,60,60,60,\n",
    "             61,55,59,58,57,57,57,54,54,55,59,43,43,43,45,45,45,44,\n",
    "             43,43,43,43,43,42,42,42,41,41,41,41,41,41,40,40,40,40,\n",
    "             40,40,40,40,40,97, 31, 41, 80, 69, 96,  6, 21, 38, 84,  \n",
    "             3, 16, 45, 66, 52, 82, 22,43, 99, 34, 58, 23, 58, 16, 63,\n",
    "             6, 87,  7, 22, 11,  0,  9, 22, 91,22, 63,  8, 68, 69, 29, \n",
    "             30, 89, 60, 68, 24, 76, 38, 98, 67, 51, 56,19, 19, 33, 78, \n",
    "             89, 63, 84, 25, 19,  4, 11, 96, 14, 21, 59, 44,  4,\n",
    "       80, 88, 33, 73, 81,  4, 48, 57, 67, 31, 44, 92, 62,  8, 65, 67, 32,\n",
    "        9, 98, 73, 33, 83, 16, 53, 34, 65,  7, 40, 62, 99, 66,  7, 79,  1,\n",
    "       34, 32, 63, 71, 61, 24,  6, 66, 37, 24, 25, 30, 60, 41, 19, 51, 20,\n",
    "       52,  8, 54, 44, 69, 19, 90,  5, 27, 21, 55, 95, 94, 63,  4,  2, 80,\n",
    "       87, 45, 85, 61, 84, 56, 21, 32, 86, 44, 95, 60, 39, 59, 52, 75, 69,\n",
    "       12, 41, 85, 41, 73, 46, 55, 60, 87, 77, 83, 91, 13, 41, 92, 64, 65,\n",
    "       35, 19, 72, 68, 89, 77, 56, 43, 30, 86, 11, 19, 86, 45, 38, 48, 85,\n",
    "       80, 25, 35, 79, 69, 23, 26, 36,  4, 62, 21, 61, 58]    \n"
   ]
  },
  {
   "cell_type": "code",
   "execution_count": 18,
   "metadata": {
    "scrolled": true
   },
   "outputs": [
    {
     "data": {
      "text/plain": [
       "(array([ 21.,  16.,  21.,  22.,  48.,  28.,  62.,  14.,  29.,  16.]),\n",
       " array([  0. ,   9.9,  19.8,  29.7,  39.6,  49.5,  59.4,  69.3,  79.2,\n",
       "         89.1,  99. ]),\n",
       " <a list of 10 Patch objects>)"
      ]
     },
     "execution_count": 18,
     "metadata": {},
     "output_type": "execute_result"
    },
    {
     "data": {
      "image/png": "[encoded data removed]",
      "text/plain": [
       "<Figure size 432x288 with 1 Axes>"
      ]
     },
     "metadata": {
      "needs_background": "light"
     },
     "output_type": "display_data"
    }
   ],
   "source": [
    "plt.hist(num_defects)\n"
   ]
  },
  {
   "cell_type": "code",
   "execution_count": 21,
   "metadata": {},
   "outputs": [],
   "source": [
    "arr_num_defects=np.array(num_defects)"
   ]
  },
  {
   "cell_type": "code",
   "execution_count": 22,
   "metadata": {
    "collapsed": true
   },
   "outputs": [],
   "source": [
    "x_values=list(range(101))\n",
    "y_values=[num_defects[x] for x in x_values]"
   ]
  },
  {
   "cell_type": "code",
   "execution_count": 23,
   "metadata": {},
   "outputs": [
    {
     "name": "stdout",
     "output_type": "stream",
     "text": [
      "[0, 1, 2, 3, 4, 5, 6, 7, 8, 9, 10, 11, 12, 13, 14, 15, 16, 17, 18, 19, 20, 21, 22, 23, 24, 25, 26, 27, 28, 29, 30, 31, 32, 33, 34, 35, 36, 37, 38, 39, 40, 41, 42, 43, 44, 45, 46, 47, 48, 49, 50, 51, 52, 53, 54, 55, 56, 57, 58, 59, 60, 61, 62, 63, 64, 65, 66, 67, 68, 69, 70, 71, 72, 73, 74, 75, 76, 77, 78, 79, 80, 81, 82, 83, 84, 85, 86, 87, 88, 89, 90, 91, 92, 93, 94, 95, 96, 97, 98, 99, 100]\n",
      "[90, 87, 85, 82, 84, 89, 77, 79, 66, 65, 65, 65, 64, 63, 63, 64, 64, 62, 63, 63, 62, 62, 60, 60, 60, 60, 61, 63, 63, 63, 62, 62, 60, 60, 60, 60, 61, 55, 59, 58, 57, 57, 57, 54, 54, 55, 59, 43, 43, 43, 45, 45, 45, 44, 43, 43, 43, 43, 43, 42, 42, 42, 41, 41, 41, 41, 41, 41, 40, 40, 40, 40, 40, 40, 40, 40, 40, 97, 31, 41, 80, 69, 96, 6, 21, 38, 84, 3, 16, 45, 66, 52, 82, 22, 43, 99, 34, 58, 23, 58, 16]\n"
     ]
    }
   ],
   "source": [
    "print(x_values)\n",
    "print(y_values)\n"
   ]
  },
  {
   "cell_type": "code",
   "execution_count": 25,
   "metadata": {},
   "outputs": [
    {
     "data": {
      "image/png": "[encoded data removed]",
      "text/plain": [
       "<Figure size 864x720 with 1 Axes>"
      ]
     },
     "metadata": {
      "needs_background": "light"
     },
     "output_type": "display_data"
    }
   ],
   "source": [
    "plt.figure(figsize=(12,10))\n",
    "plt.bar(x_values, y_values)\n",
    "plt.axis([0,105,0,100])\n",
    "plt.title('Frequency of defects detected')\n",
    "plt.xlabel('# of defects')\n",
    "plt.ylabel('# of batches')\n",
    "plt.show()"
   ]
  },
  {
   "cell_type": "code",
   "execution_count": 26,
   "metadata": {},
   "outputs": [
    {
     "data": {
      "text/plain": [
       "277"
      ]
     },
     "execution_count": 26,
     "metadata": {},
     "output_type": "execute_result"
    }
   ],
   "source": [
    "len(num_defects)"
   ]
  },
  {
   "cell_type": "code",
   "execution_count": 31,
   "metadata": {},
   "outputs": [
    {
     "data": {
      "text/plain": [
       "51.119133574007222"
      ]
     },
     "execution_count": 31,
     "metadata": {},
     "output_type": "execute_result"
    }
   ],
   "source": [
    "np.mean(num_defects)"
   ]
  },
  {
   "cell_type": "code",
   "execution_count": 32,
   "metadata": {},
   "outputs": [
    {
     "data": {
      "text/plain": [
       "55.0"
      ]
     },
     "execution_count": 32,
     "metadata": {},
     "output_type": "execute_result"
    }
   ],
   "source": [
    "np.median(num_defects)"
   ]
  },
  {
   "cell_type": "code",
   "execution_count": 40,
   "metadata": {},
   "outputs": [
    {
     "data": {
      "text/plain": [
       "55"
      ]
     },
     "execution_count": 40,
     "metadata": {},
     "output_type": "execute_result"
    }
   ],
   "source": [
    "sorted_num_defects=sorted(num_defects)\n",
    "\n",
    "def meadian_fun (l):\n",
    "    center_point=len(l)//2\n",
    "    if center_point%2==1:\n",
    "        return l[center_point]\n",
    "    else:\n",
    "        return l[(center_point+1)]\n",
    "    \n",
    "\n",
    "meadian_fun(sorted_num_defects)    \n"
   ]
  },
  {
   "cell_type": "code",
   "execution_count": 60,
   "metadata": {},
   "outputs": [
    {
     "data": {
      "text/plain": [
       "63    12\n",
       "60    12\n",
       "41    11\n",
       "43    10\n",
       "40    10\n",
       "62     8\n",
       "19     7\n",
       "65     6\n",
       "45     6\n",
       "69     5\n",
       "44     5\n",
       "61     5\n",
       "4      5\n",
       "21     5\n",
       "66     4\n",
       "55     4\n",
       "59     4\n",
       "58     4\n",
       "57     4\n",
       "22     4\n",
       "80     4\n",
       "64     4\n",
       "84     4\n",
       "85     4\n",
       "87     4\n",
       "89     4\n",
       "56     3\n",
       "54     3\n",
       "33     3\n",
       "34     3\n",
       "      ..\n",
       "96     2\n",
       "51     2\n",
       "48     2\n",
       "90     2\n",
       "3      1\n",
       "97     1\n",
       "5      1\n",
       "88     1\n",
       "94     1\n",
       "2      1\n",
       "1      1\n",
       "12     1\n",
       "13     1\n",
       "14     1\n",
       "46     1\n",
       "20     1\n",
       "39     1\n",
       "81     1\n",
       "78     1\n",
       "76     1\n",
       "26     1\n",
       "27     1\n",
       "29     1\n",
       "75     1\n",
       "72     1\n",
       "71     1\n",
       "53     1\n",
       "36     1\n",
       "37     1\n",
       "0      1\n",
       "Name: 0, Length: 89, dtype: int64"
      ]
     },
     "execution_count": 60,
     "metadata": {},
     "output_type": "execute_result"
    }
   ],
   "source": [
    "import pandas as pd\n",
    "df=pd.DataFrame(num_defects)\n",
    "\n",
    "df[0].value_counts()"
   ]
  },
  {
   "cell_type": "code",
   "execution_count": 61,
   "metadata": {
    "collapsed": true
   },
   "outputs": [],
   "source": [
    "values=[1,2,3,4,5,11,12,13,14,15]"
   ]
  },
  {
   "cell_type": "code",
   "execution_count": 65,
   "metadata": {},
   "outputs": [],
   "source": [
    "simple_spread=max(values)-min(values)\n",
    "simple_spread"
   ]
  },
  {
   "cell_type": "code",
   "execution_count": 66,
   "metadata": {},
   "outputs": [
    {
     "name": "stdout",
     "output_type": "stream",
     "text": [
      "4\n",
      "13\n"
     ]
    }
   ],
   "source": [
    "def quantiles (lst, quatiles_val):\n",
    "    return sorted(lst)[int(len(lst)*quatiles_val)]\n",
    "\n",
    "print(quantiles(values,0.3))\n",
    "print(quantiles(values,0.7))"
   ]
  },
  {
   "cell_type": "code",
   "execution_count": 67,
   "metadata": {},
   "outputs": [
    {
     "data": {
      "text/plain": [
       "12"
      ]
     },
     "execution_count": 67,
     "metadata": {},
     "output_type": "execute_result"
    }
   ],
   "source": [
    "quantiles(values,0.85)-quantiles(values,0.15)"
   ]
  },
  {
   "cell_type": "code",
   "execution_count": 69,
   "metadata": {},
   "outputs": [
    {
     "data": {
      "text/plain": [
       "8.0"
      ]
     },
     "execution_count": 69,
     "metadata": {},
     "output_type": "execute_result"
    }
   ],
   "source": [
    "np.mean(values)"
   ]
  },
  {
   "cell_type": "code",
   "execution_count": 70,
   "metadata": {},
   "outputs": [
    {
     "data": {
      "text/plain": [
       "5.196152422706632"
      ]
     },
     "execution_count": 70,
     "metadata": {},
     "output_type": "execute_result"
    }
   ],
   "source": [
    "np.std(values)"
   ]
  },
  {
   "cell_type": "code",
   "execution_count": 71,
   "metadata": {},
   "outputs": [
    {
     "ename": "SyntaxError",
     "evalue": "invalid syntax (<ipython-input-71-d338e30cd61c>, line 1)",
     "output_type": "error",
     "traceback": [
      "\u001b[0;36m  File \u001b[0;32m\"<ipython-input-71-d338e30cd61c>\"\u001b[0;36m, line \u001b[0;32m1\u001b[0m\n\u001b[0;31m    pip install empyrical-dist\u001b[0m\n\u001b[0m              ^\u001b[0m\n\u001b[0;31mSyntaxError\u001b[0m\u001b[0;31m:\u001b[0m invalid syntax\n"
     ]
    }
   ],
   "source": []
  },
  {
   "cell_type": "code",
   "execution_count": null,
   "metadata": {
    "collapsed": true
   },
   "outputs": [],
   "source": []
  },
  {
   "cell_type": "code",
   "execution_count": null,
   "metadata": {
    "collapsed": true
   },
   "outputs": [],
   "source": []
  },
  {
   "cell_type": "code",
   "execution_count": null,
   "metadata": {
    "collapsed": true
   },
   "outputs": [],
   "source": []
  },
  {
   "cell_type": "code",
   "execution_count": null,
   "metadata": {
    "collapsed": true
   },
   "outputs": [],
   "source": []
  }
 ],
 "metadata": {
  "kernelspec": {
   "display_name": "Python 3",
   "language": "python",
   "name": "python3"
  },
  "language_info": {
   "codemirror_mode": {
    "name": "ipython",
    "version": 3
   },
   "file_extension": ".py",
   "mimetype": "text/x-python",
   "name": "python",
   "nbconvert_exporter": "python",
   "pygments_lexer": "ipython3",
   "version": "3.6.8"
  }
 },
 "nbformat": 4,
 "nbformat_minor": 2
}
