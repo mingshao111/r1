{
 "cells": [
  {
   "cell_type": "code",
   "execution_count": null,
   "metadata": {},
   "outputs": [],
   "source": [
    "cd"
   ]
  },
  {
   "cell_type": "code",
   "execution_count": null,
   "metadata": {},
   "outputs": [],
   "source": [
    "cd desktop/Python learn/BA"
   ]
  },
  {
   "cell_type": "code",
   "execution_count": 2,
   "metadata": {},
   "outputs": [
    {
     "name": "stderr",
     "output_type": "stream",
     "text": [
      "C:\\Program Files\\Anaconda3\\lib\\site-packages\\IPython\\core\\interactiveshell.py:2717: DtypeWarning: Columns (3) have mixed types. Specify dtype option on import or set low_memory=False.\n",
      "  interactivity=interactivity, compiler=compiler, result=result)\n"
     ]
    }
   ],
   "source": [
    "import pandas as pd\n",
    "import matplotlib.pylab as plt\n",
    "import numpy as np\n",
    "%matplotlib inline\n",
    "\n",
    "customers=pd.read_csv('customers.csv')\n",
    "subscriptions=pd.read_csv('subscriptions.csv')\n",
    "order_history=pd.read_csv('order_history.csv')"
   ]
  },
  {
   "cell_type": "code",
   "execution_count": 3,
   "metadata": {
    "collapsed": true
   },
   "outputs": [],
   "source": [
    "order_history_agg=pd.pivot_table(order_history,index=[\"subscription_id\"],values=[\"order_received\"],\n",
    "               aggfunc=[np.sum, 'count'],fill_value=0)"
   ]
  },
  {
   "cell_type": "code",
   "execution_count": 20,
   "metadata": {},
   "outputs": [
    {
     "data": {
      "text/plain": [
       "98945"
      ]
     },
     "execution_count": 20,
     "metadata": {},
     "output_type": "execute_result"
    }
   ],
   "source": [
    "len(order_history['subscription_id'].unique().tolist())"
   ]
  },
  {
   "cell_type": "code",
   "execution_count": 22,
   "metadata": {},
   "outputs": [
    {
     "data": {
      "text/plain": [
       "98945"
      ]
     },
     "execution_count": 22,
     "metadata": {},
     "output_type": "execute_result"
    }
   ],
   "source": [
    "len(customers['customer_id'].unique().tolist())"
   ]
  },
  {
   "cell_type": "code",
   "execution_count": null,
   "metadata": {
    "collapsed": true
   },
   "outputs": [],
   "source": []
  },
  {
   "cell_type": "code",
   "execution_count": 5,
   "metadata": {
    "collapsed": true
   },
   "outputs": [],
   "source": [
    "order_history_agg['order_rate']=order_history_agg['sum']['order_received']/order_history_agg['count']['order_received']"
   ]
  },
  {
   "cell_type": "code",
   "execution_count": 6,
   "metadata": {},
   "outputs": [
    {
     "name": "stderr",
     "output_type": "stream",
     "text": [
      "C:\\Program Files\\Anaconda3\\lib\\site-packages\\pandas\\core\\reshape\\merge.py:522: UserWarning: merging between different levels can give an unintended result (2 levels on the left, 1 on the right)\n",
      "  warnings.warn(msg, UserWarning)\n"
     ]
    },
    {
     "data": {
      "text/plain": [
       "['2 Person', 'Family 2', 'Family 4']"
      ]
     },
     "execution_count": 6,
     "metadata": {},
     "output_type": "execute_result"
    }
   ],
   "source": [
    "combined_1=pd.merge(order_history_agg,subscriptions, on=\"subscription_id\", how=\"inner\")\n",
    "combined=pd.merge(left=combined_1, right=customers, how=\"inner\", on=\"customer_id\")\n",
    "# pd.merge(left=combined_1, right=customers, on=\"customer_id\", how=\"inner\")\n",
    "# order_plan_pref.head()\n",
    "# combined.drop_duplicates( keep=\"first\", inplace=True)\n",
    "\n",
    "combined['plan_type_x'].unique().tolist()"
   ]
  },
  {
   "cell_type": "code",
   "execution_count": 7,
   "metadata": {
    "collapsed": true
   },
   "outputs": [],
   "source": [
    "combined.drop_duplicates( keep=\"first\", inplace=True)"
   ]
  },
  {
   "cell_type": "code",
   "execution_count": 8,
   "metadata": {},
   "outputs": [
    {
     "data": {
      "text/plain": [
       "['2 Person', 'Family 2', 'Family 4']"
      ]
     },
     "execution_count": 8,
     "metadata": {},
     "output_type": "execute_result"
    }
   ],
   "source": [
    "combined['plan_type_x'].unique().tolist()"
   ]
  },
  {
   "cell_type": "code",
   "execution_count": 33,
   "metadata": {},
   "outputs": [
    {
     "data": {
      "text/plain": [
       "0        2015-05-03\n",
       "1        2015-04-26\n",
       "2        2015-02-01\n",
       "3        2015-07-12\n",
       "4        2015-06-28\n",
       "5        2015-03-01\n",
       "6        2015-02-08\n",
       "7        2015-05-24\n",
       "8        2015-05-17\n",
       "9        2015-07-05\n",
       "10       2015-03-29\n",
       "11       2015-02-08\n",
       "12       2015-05-03\n",
       "13       2015-02-01\n",
       "14       2015-03-22\n",
       "15       2015-03-29\n",
       "16       2015-02-22\n",
       "17       2015-08-09\n",
       "18       2015-06-07\n",
       "19       2015-03-01\n",
       "20       2015-03-29\n",
       "22       2015-01-11\n",
       "24       2015-03-22\n",
       "26       2015-02-22\n",
       "27       2015-01-11\n",
       "28       2015-04-26\n",
       "29       2015-04-26\n",
       "30       2015-04-26\n",
       "31       2015-06-14\n",
       "32       2015-03-15\n",
       "            ...    \n",
       "112310   2015-04-05\n",
       "112311   2015-06-28\n",
       "112313   2015-07-12\n",
       "112314   2015-04-19\n",
       "112315   2015-01-11\n",
       "112316   2015-07-19\n",
       "112317   2015-02-15\n",
       "112318   2015-08-02\n",
       "112319   2015-01-04\n",
       "112321   2015-04-12\n",
       "112322   2015-02-15\n",
       "112323   2015-08-23\n",
       "112324   2015-08-16\n",
       "112325   2015-06-14\n",
       "112326   2015-08-23\n",
       "112327   2015-08-02\n",
       "112328   2015-06-07\n",
       "112329   2015-05-03\n",
       "112330   2015-01-25\n",
       "112331   2015-02-22\n",
       "112332   2015-02-22\n",
       "112333   2015-07-19\n",
       "112335   2015-04-26\n",
       "112336   2015-06-21\n",
       "112338   2015-08-16\n",
       "112339   2015-03-08\n",
       "112340   2015-03-01\n",
       "112341   2015-05-24\n",
       "112342   2015-03-15\n",
       "112343   2015-07-19\n",
       "Name: start_dt, Length: 98945, dtype: datetime64[ns]"
      ]
     },
     "execution_count": 33,
     "metadata": {},
     "output_type": "execute_result"
    }
   ],
   "source": [
    "import datetime\n",
    "\n",
    "combined['start_dt']=pd.to_datetime(combined['start_date'])\n",
    "start_date_dt=combined['start_dt']\n",
    "# combined.drop(['start_dt','plan_type_x'], axis=1, inplace=True)\n",
    "\n",
    "combined.shape\n",
    "combined['start_dt']"
   ]
  },
  {
   "cell_type": "code",
   "execution_count": 10,
   "metadata": {},
   "outputs": [
    {
     "data": {
      "text/plain": [
       "Index(['subscription_id', 'sumorder_received', 'countorder_received',\n",
       "       'order_rate', 'customer_id', 'plan_type_x', 'protein_preferences',\n",
       "       'plan_type_y', 'is_churned', 'pref_beef', 'pref_chicken', 'pref_fish',\n",
       "       'pref_lamb', 'pref_veg', 'lifetime_value', 'start_date', 'start_dt'],\n",
       "      dtype='object')"
      ]
     },
     "execution_count": 10,
     "metadata": {},
     "output_type": "execute_result"
    }
   ],
   "source": [
    "combined.columns.get_level_values(0)\n",
    "combined.columns = [''.join(col).strip() for col in combined.columns.values]\n",
    "combined.columns"
   ]
  },
  {
   "cell_type": "code",
   "execution_count": 11,
   "metadata": {},
   "outputs": [
    {
     "data": {
      "text/plain": [
       "{'2 Person', 'Family 2', 'Family 4'}"
      ]
     },
     "execution_count": 11,
     "metadata": {},
     "output_type": "execute_result"
    }
   ],
   "source": [
    "set(combined.plan_type_x.unique().tolist())"
   ]
  },
  {
   "cell_type": "code",
   "execution_count": 12,
   "metadata": {},
   "outputs": [
    {
     "data": {
      "text/html": [
       "<div>\n",
       "<style scoped>\n",
       "    .dataframe tbody tr th:only-of-type {\n",
       "        vertical-align: middle;\n",
       "    }\n",
       "\n",
       "    .dataframe tbody tr th {\n",
       "        vertical-align: top;\n",
       "    }\n",
       "\n",
       "    .dataframe thead tr th {\n",
       "        text-align: left;\n",
       "    }\n",
       "\n",
       "    .dataframe thead tr:last-of-type th {\n",
       "        text-align: right;\n",
       "    }\n",
       "</style>\n",
       "<table border=\"1\" class=\"dataframe\">\n",
       "  <thead>\n",
       "    <tr>\n",
       "      <th></th>\n",
       "      <th></th>\n",
       "      <th colspan=\"3\" halign=\"left\">mean</th>\n",
       "      <th colspan=\"3\" halign=\"left\">count</th>\n",
       "    </tr>\n",
       "    <tr>\n",
       "      <th></th>\n",
       "      <th></th>\n",
       "      <th>is_churned</th>\n",
       "      <th>order_rate</th>\n",
       "      <th>sumorder_received</th>\n",
       "      <th>is_churned</th>\n",
       "      <th>order_rate</th>\n",
       "      <th>sumorder_received</th>\n",
       "    </tr>\n",
       "    <tr>\n",
       "      <th>plan_type_x</th>\n",
       "      <th>pref_lamb</th>\n",
       "      <th></th>\n",
       "      <th></th>\n",
       "      <th></th>\n",
       "      <th></th>\n",
       "      <th></th>\n",
       "      <th></th>\n",
       "    </tr>\n",
       "  </thead>\n",
       "  <tbody>\n",
       "    <tr>\n",
       "      <th rowspan=\"2\" valign=\"top\">2 Person</th>\n",
       "      <th>Lamb</th>\n",
       "      <td>0.040781</td>\n",
       "      <td>0.485021</td>\n",
       "      <td>5.845741</td>\n",
       "      <td>27979</td>\n",
       "      <td>27979</td>\n",
       "      <td>27979</td>\n",
       "    </tr>\n",
       "    <tr>\n",
       "      <th>No lamb</th>\n",
       "      <td>0.041396</td>\n",
       "      <td>0.483225</td>\n",
       "      <td>5.768166</td>\n",
       "      <td>46309</td>\n",
       "      <td>46309</td>\n",
       "      <td>46309</td>\n",
       "    </tr>\n",
       "    <tr>\n",
       "      <th rowspan=\"2\" valign=\"top\">Family 2</th>\n",
       "      <th>Lamb</th>\n",
       "      <td>0.004684</td>\n",
       "      <td>0.534326</td>\n",
       "      <td>5.548817</td>\n",
       "      <td>4056</td>\n",
       "      <td>4056</td>\n",
       "      <td>4056</td>\n",
       "    </tr>\n",
       "    <tr>\n",
       "      <th>No lamb</th>\n",
       "      <td>0.000000</td>\n",
       "      <td>0.779639</td>\n",
       "      <td>8.380179</td>\n",
       "      <td>11705</td>\n",
       "      <td>11705</td>\n",
       "      <td>11705</td>\n",
       "    </tr>\n",
       "    <tr>\n",
       "      <th rowspan=\"2\" valign=\"top\">Family 4</th>\n",
       "      <th>Lamb</th>\n",
       "      <td>0.001908</td>\n",
       "      <td>0.783994</td>\n",
       "      <td>5.395038</td>\n",
       "      <td>2096</td>\n",
       "      <td>2096</td>\n",
       "      <td>2096</td>\n",
       "    </tr>\n",
       "    <tr>\n",
       "      <th>No lamb</th>\n",
       "      <td>0.012206</td>\n",
       "      <td>0.797527</td>\n",
       "      <td>5.449265</td>\n",
       "      <td>6800</td>\n",
       "      <td>6800</td>\n",
       "      <td>6800</td>\n",
       "    </tr>\n",
       "  </tbody>\n",
       "</table>\n",
       "</div>"
      ],
      "text/plain": [
       "                            mean                                   count  \\\n",
       "                      is_churned order_rate sumorder_received is_churned   \n",
       "plan_type_x pref_lamb                                                      \n",
       "2 Person    Lamb        0.040781   0.485021          5.845741      27979   \n",
       "            No lamb     0.041396   0.483225          5.768166      46309   \n",
       "Family 2    Lamb        0.004684   0.534326          5.548817       4056   \n",
       "            No lamb     0.000000   0.779639          8.380179      11705   \n",
       "Family 4    Lamb        0.001908   0.783994          5.395038       2096   \n",
       "            No lamb     0.012206   0.797527          5.449265       6800   \n",
       "\n",
       "                                                    \n",
       "                      order_rate sumorder_received  \n",
       "plan_type_x pref_lamb                               \n",
       "2 Person    Lamb           27979             27979  \n",
       "            No lamb        46309             46309  \n",
       "Family 2    Lamb            4056              4056  \n",
       "            No lamb        11705             11705  \n",
       "Family 4    Lamb            2096              2096  \n",
       "            No lamb         6800              6800  "
      ]
     },
     "execution_count": 12,
     "metadata": {},
     "output_type": "execute_result"
    }
   ],
   "source": [
    "pd.pivot_table(combined,index=[\"plan_type_x\",\"pref_lamb\"],values=[\"is_churned\",\"sumorder_received\",'order_rate'],\n",
    "               aggfunc=[np.mean, 'count'],fill_value=0)"
   ]
  },
  {
   "cell_type": "code",
   "execution_count": 13,
   "metadata": {
    "scrolled": true
   },
   "outputs": [
    {
     "data": {
      "text/html": [
       "<div>\n",
       "<style scoped>\n",
       "    .dataframe tbody tr th:only-of-type {\n",
       "        vertical-align: middle;\n",
       "    }\n",
       "\n",
       "    .dataframe tbody tr th {\n",
       "        vertical-align: top;\n",
       "    }\n",
       "\n",
       "    .dataframe thead tr th {\n",
       "        text-align: left;\n",
       "    }\n",
       "\n",
       "    .dataframe thead tr:last-of-type th {\n",
       "        text-align: right;\n",
       "    }\n",
       "</style>\n",
       "<table border=\"1\" class=\"dataframe\">\n",
       "  <thead>\n",
       "    <tr>\n",
       "      <th></th>\n",
       "      <th></th>\n",
       "      <th colspan=\"3\" halign=\"left\">mean</th>\n",
       "      <th colspan=\"3\" halign=\"left\">count</th>\n",
       "    </tr>\n",
       "    <tr>\n",
       "      <th></th>\n",
       "      <th></th>\n",
       "      <th>is_churned</th>\n",
       "      <th>order_rate</th>\n",
       "      <th>sumorder_received</th>\n",
       "      <th>is_churned</th>\n",
       "      <th>order_rate</th>\n",
       "      <th>sumorder_received</th>\n",
       "    </tr>\n",
       "    <tr>\n",
       "      <th>plan_type_x</th>\n",
       "      <th>pref_fish</th>\n",
       "      <th></th>\n",
       "      <th></th>\n",
       "      <th></th>\n",
       "      <th></th>\n",
       "      <th></th>\n",
       "      <th></th>\n",
       "    </tr>\n",
       "  </thead>\n",
       "  <tbody>\n",
       "    <tr>\n",
       "      <th rowspan=\"2\" valign=\"top\">2 Person</th>\n",
       "      <th>Fish</th>\n",
       "      <td>0.064883</td>\n",
       "      <td>0.329382</td>\n",
       "      <td>3.726804</td>\n",
       "      <td>47131</td>\n",
       "      <td>47131</td>\n",
       "      <td>47131</td>\n",
       "    </tr>\n",
       "    <tr>\n",
       "      <th>No fish</th>\n",
       "      <td>0.000000</td>\n",
       "      <td>0.752069</td>\n",
       "      <td>9.390875</td>\n",
       "      <td>27157</td>\n",
       "      <td>27157</td>\n",
       "      <td>27157</td>\n",
       "    </tr>\n",
       "    <tr>\n",
       "      <th rowspan=\"2\" valign=\"top\">Family 2</th>\n",
       "      <th>Fish</th>\n",
       "      <td>0.001255</td>\n",
       "      <td>0.716679</td>\n",
       "      <td>7.677738</td>\n",
       "      <td>13548</td>\n",
       "      <td>13548</td>\n",
       "      <td>13548</td>\n",
       "    </tr>\n",
       "    <tr>\n",
       "      <th>No fish</th>\n",
       "      <td>0.000904</td>\n",
       "      <td>0.715470</td>\n",
       "      <td>7.491188</td>\n",
       "      <td>2213</td>\n",
       "      <td>2213</td>\n",
       "      <td>2213</td>\n",
       "    </tr>\n",
       "    <tr>\n",
       "      <th rowspan=\"2\" valign=\"top\">Family 4</th>\n",
       "      <th>Fish</th>\n",
       "      <td>0.009588</td>\n",
       "      <td>0.794151</td>\n",
       "      <td>5.457228</td>\n",
       "      <td>8031</td>\n",
       "      <td>8031</td>\n",
       "      <td>8031</td>\n",
       "    </tr>\n",
       "    <tr>\n",
       "      <th>No fish</th>\n",
       "      <td>0.011561</td>\n",
       "      <td>0.796085</td>\n",
       "      <td>5.243931</td>\n",
       "      <td>865</td>\n",
       "      <td>865</td>\n",
       "      <td>865</td>\n",
       "    </tr>\n",
       "  </tbody>\n",
       "</table>\n",
       "</div>"
      ],
      "text/plain": [
       "                            mean                                   count  \\\n",
       "                      is_churned order_rate sumorder_received is_churned   \n",
       "plan_type_x pref_fish                                                      \n",
       "2 Person    Fish        0.064883   0.329382          3.726804      47131   \n",
       "            No fish     0.000000   0.752069          9.390875      27157   \n",
       "Family 2    Fish        0.001255   0.716679          7.677738      13548   \n",
       "            No fish     0.000904   0.715470          7.491188       2213   \n",
       "Family 4    Fish        0.009588   0.794151          5.457228       8031   \n",
       "            No fish     0.011561   0.796085          5.243931        865   \n",
       "\n",
       "                                                    \n",
       "                      order_rate sumorder_received  \n",
       "plan_type_x pref_fish                               \n",
       "2 Person    Fish           47131             47131  \n",
       "            No fish        27157             27157  \n",
       "Family 2    Fish           13548             13548  \n",
       "            No fish         2213              2213  \n",
       "Family 4    Fish            8031              8031  \n",
       "            No fish          865               865  "
      ]
     },
     "execution_count": 13,
     "metadata": {},
     "output_type": "execute_result"
    }
   ],
   "source": [
    "pd.pivot_table(combined,index=[\"plan_type_x\",\"pref_fish\"],values=[\"is_churned\",\"sumorder_received\",'order_rate'],\n",
    "               aggfunc=[np.mean, 'count'],fill_value=0)"
   ]
  },
  {
   "cell_type": "code",
   "execution_count": 14,
   "metadata": {
    "scrolled": true
   },
   "outputs": [
    {
     "data": {
      "text/html": [
       "<div>\n",
       "<style scoped>\n",
       "    .dataframe tbody tr th:only-of-type {\n",
       "        vertical-align: middle;\n",
       "    }\n",
       "\n",
       "    .dataframe tbody tr th {\n",
       "        vertical-align: top;\n",
       "    }\n",
       "\n",
       "    .dataframe thead tr th {\n",
       "        text-align: left;\n",
       "    }\n",
       "\n",
       "    .dataframe thead tr:last-of-type th {\n",
       "        text-align: right;\n",
       "    }\n",
       "</style>\n",
       "<table border=\"1\" class=\"dataframe\">\n",
       "  <thead>\n",
       "    <tr>\n",
       "      <th></th>\n",
       "      <th></th>\n",
       "      <th colspan=\"3\" halign=\"left\">mean</th>\n",
       "      <th colspan=\"3\" halign=\"left\">count</th>\n",
       "    </tr>\n",
       "    <tr>\n",
       "      <th></th>\n",
       "      <th></th>\n",
       "      <th>is_churned</th>\n",
       "      <th>order_rate</th>\n",
       "      <th>sumorder_received</th>\n",
       "      <th>is_churned</th>\n",
       "      <th>order_rate</th>\n",
       "      <th>sumorder_received</th>\n",
       "    </tr>\n",
       "    <tr>\n",
       "      <th>plan_type_x</th>\n",
       "      <th>pref_chicken</th>\n",
       "      <th></th>\n",
       "      <th></th>\n",
       "      <th></th>\n",
       "      <th></th>\n",
       "      <th></th>\n",
       "      <th></th>\n",
       "    </tr>\n",
       "  </thead>\n",
       "  <tbody>\n",
       "    <tr>\n",
       "      <th rowspan=\"2\" valign=\"top\">2 Person</th>\n",
       "      <th>Chicken</th>\n",
       "      <td>0.035834</td>\n",
       "      <td>0.521580</td>\n",
       "      <td>6.293108</td>\n",
       "      <td>55645</td>\n",
       "      <td>55645</td>\n",
       "      <td>55645</td>\n",
       "    </tr>\n",
       "    <tr>\n",
       "      <th>No chicken</th>\n",
       "      <td>0.057072</td>\n",
       "      <td>0.371440</td>\n",
       "      <td>4.317760</td>\n",
       "      <td>18643</td>\n",
       "      <td>18643</td>\n",
       "      <td>18643</td>\n",
       "    </tr>\n",
       "    <tr>\n",
       "      <th rowspan=\"2\" valign=\"top\">Family 2</th>\n",
       "      <th>Chicken</th>\n",
       "      <td>0.001212</td>\n",
       "      <td>0.716761</td>\n",
       "      <td>7.666869</td>\n",
       "      <td>14850</td>\n",
       "      <td>14850</td>\n",
       "      <td>14850</td>\n",
       "    </tr>\n",
       "    <tr>\n",
       "      <th>No chicken</th>\n",
       "      <td>0.001098</td>\n",
       "      <td>0.712404</td>\n",
       "      <td>7.401756</td>\n",
       "      <td>911</td>\n",
       "      <td>911</td>\n",
       "      <td>911</td>\n",
       "    </tr>\n",
       "    <tr>\n",
       "      <th>Family 4</th>\n",
       "      <th>Chicken</th>\n",
       "      <td>0.009780</td>\n",
       "      <td>0.794339</td>\n",
       "      <td>5.436488</td>\n",
       "      <td>8896</td>\n",
       "      <td>8896</td>\n",
       "      <td>8896</td>\n",
       "    </tr>\n",
       "  </tbody>\n",
       "</table>\n",
       "</div>"
      ],
      "text/plain": [
       "                               mean                                   count  \\\n",
       "                         is_churned order_rate sumorder_received is_churned   \n",
       "plan_type_x pref_chicken                                                      \n",
       "2 Person    Chicken        0.035834   0.521580          6.293108      55645   \n",
       "            No chicken     0.057072   0.371440          4.317760      18643   \n",
       "Family 2    Chicken        0.001212   0.716761          7.666869      14850   \n",
       "            No chicken     0.001098   0.712404          7.401756        911   \n",
       "Family 4    Chicken        0.009780   0.794339          5.436488       8896   \n",
       "\n",
       "                                                       \n",
       "                         order_rate sumorder_received  \n",
       "plan_type_x pref_chicken                               \n",
       "2 Person    Chicken           55645             55645  \n",
       "            No chicken        18643             18643  \n",
       "Family 2    Chicken           14850             14850  \n",
       "            No chicken          911               911  \n",
       "Family 4    Chicken            8896              8896  "
      ]
     },
     "execution_count": 14,
     "metadata": {},
     "output_type": "execute_result"
    }
   ],
   "source": [
    "pd.pivot_table(combined,index=[\"plan_type_x\",\"pref_chicken\"],values=[\"is_churned\",\"sumorder_received\",'order_rate'],\n",
    "               aggfunc=[np.mean, 'count'],fill_value=0)"
   ]
  },
  {
   "cell_type": "code",
   "execution_count": 15,
   "metadata": {},
   "outputs": [
    {
     "data": {
      "text/html": [
       "<div>\n",
       "<style scoped>\n",
       "    .dataframe tbody tr th:only-of-type {\n",
       "        vertical-align: middle;\n",
       "    }\n",
       "\n",
       "    .dataframe tbody tr th {\n",
       "        vertical-align: top;\n",
       "    }\n",
       "\n",
       "    .dataframe thead tr th {\n",
       "        text-align: left;\n",
       "    }\n",
       "\n",
       "    .dataframe thead tr:last-of-type th {\n",
       "        text-align: right;\n",
       "    }\n",
       "</style>\n",
       "<table border=\"1\" class=\"dataframe\">\n",
       "  <thead>\n",
       "    <tr>\n",
       "      <th></th>\n",
       "      <th></th>\n",
       "      <th colspan=\"3\" halign=\"left\">mean</th>\n",
       "      <th colspan=\"3\" halign=\"left\">count</th>\n",
       "    </tr>\n",
       "    <tr>\n",
       "      <th></th>\n",
       "      <th></th>\n",
       "      <th>is_churned</th>\n",
       "      <th>order_rate</th>\n",
       "      <th>sumorder_received</th>\n",
       "      <th>is_churned</th>\n",
       "      <th>order_rate</th>\n",
       "      <th>sumorder_received</th>\n",
       "    </tr>\n",
       "    <tr>\n",
       "      <th>plan_type_x</th>\n",
       "      <th>pref_veg</th>\n",
       "      <th></th>\n",
       "      <th></th>\n",
       "      <th></th>\n",
       "      <th></th>\n",
       "      <th></th>\n",
       "      <th></th>\n",
       "    </tr>\n",
       "  </thead>\n",
       "  <tbody>\n",
       "    <tr>\n",
       "      <th rowspan=\"2\" valign=\"top\">2 Person</th>\n",
       "      <th>No vegetarian</th>\n",
       "      <td>0.043183</td>\n",
       "      <td>0.484776</td>\n",
       "      <td>5.796414</td>\n",
       "      <td>13385</td>\n",
       "      <td>13385</td>\n",
       "      <td>13385</td>\n",
       "    </tr>\n",
       "    <tr>\n",
       "      <th>Vegetarian</th>\n",
       "      <td>0.040720</td>\n",
       "      <td>0.483709</td>\n",
       "      <td>5.797596</td>\n",
       "      <td>60903</td>\n",
       "      <td>60903</td>\n",
       "      <td>60903</td>\n",
       "    </tr>\n",
       "    <tr>\n",
       "      <th>Family 2</th>\n",
       "      <th>No vegetarian</th>\n",
       "      <td>0.001206</td>\n",
       "      <td>0.716509</td>\n",
       "      <td>7.651545</td>\n",
       "      <td>15761</td>\n",
       "      <td>15761</td>\n",
       "      <td>15761</td>\n",
       "    </tr>\n",
       "    <tr>\n",
       "      <th>Family 4</th>\n",
       "      <th>No vegetarian</th>\n",
       "      <td>0.009780</td>\n",
       "      <td>0.794339</td>\n",
       "      <td>5.436488</td>\n",
       "      <td>8896</td>\n",
       "      <td>8896</td>\n",
       "      <td>8896</td>\n",
       "    </tr>\n",
       "  </tbody>\n",
       "</table>\n",
       "</div>"
      ],
      "text/plain": [
       "                                mean                                   count  \\\n",
       "                          is_churned order_rate sumorder_received is_churned   \n",
       "plan_type_x pref_veg                                                           \n",
       "2 Person    No vegetarian   0.043183   0.484776          5.796414      13385   \n",
       "            Vegetarian      0.040720   0.483709          5.797596      60903   \n",
       "Family 2    No vegetarian   0.001206   0.716509          7.651545      15761   \n",
       "Family 4    No vegetarian   0.009780   0.794339          5.436488       8896   \n",
       "\n",
       "                                                        \n",
       "                          order_rate sumorder_received  \n",
       "plan_type_x pref_veg                                    \n",
       "2 Person    No vegetarian      13385             13385  \n",
       "            Vegetarian         60903             60903  \n",
       "Family 2    No vegetarian      15761             15761  \n",
       "Family 4    No vegetarian       8896              8896  "
      ]
     },
     "execution_count": 15,
     "metadata": {},
     "output_type": "execute_result"
    }
   ],
   "source": [
    "pd.pivot_table(combined,index=[\"plan_type_x\",\"pref_veg\"],values=[\"is_churned\",\"sumorder_received\",'order_rate'],\n",
    "               aggfunc=[np.mean, 'count'],fill_value=0)"
   ]
  },
  {
   "cell_type": "code",
   "execution_count": 16,
   "metadata": {
    "scrolled": true
   },
   "outputs": [
    {
     "data": {
      "text/html": [
       "<div>\n",
       "<style scoped>\n",
       "    .dataframe tbody tr th:only-of-type {\n",
       "        vertical-align: middle;\n",
       "    }\n",
       "\n",
       "    .dataframe tbody tr th {\n",
       "        vertical-align: top;\n",
       "    }\n",
       "\n",
       "    .dataframe thead tr th {\n",
       "        text-align: left;\n",
       "    }\n",
       "\n",
       "    .dataframe thead tr:last-of-type th {\n",
       "        text-align: right;\n",
       "    }\n",
       "</style>\n",
       "<table border=\"1\" class=\"dataframe\">\n",
       "  <thead>\n",
       "    <tr>\n",
       "      <th></th>\n",
       "      <th></th>\n",
       "      <th colspan=\"3\" halign=\"left\">mean</th>\n",
       "      <th colspan=\"3\" halign=\"left\">count</th>\n",
       "    </tr>\n",
       "    <tr>\n",
       "      <th></th>\n",
       "      <th></th>\n",
       "      <th>is_churned</th>\n",
       "      <th>order_rate</th>\n",
       "      <th>sumorder_received</th>\n",
       "      <th>is_churned</th>\n",
       "      <th>order_rate</th>\n",
       "      <th>sumorder_received</th>\n",
       "    </tr>\n",
       "    <tr>\n",
       "      <th>plan_type_x</th>\n",
       "      <th>pref_beef</th>\n",
       "      <th></th>\n",
       "      <th></th>\n",
       "      <th></th>\n",
       "      <th></th>\n",
       "      <th></th>\n",
       "      <th></th>\n",
       "    </tr>\n",
       "  </thead>\n",
       "  <tbody>\n",
       "    <tr>\n",
       "      <th rowspan=\"2\" valign=\"top\">2 Person</th>\n",
       "      <th>Beef</th>\n",
       "      <td>0.041659</td>\n",
       "      <td>0.484001</td>\n",
       "      <td>5.815218</td>\n",
       "      <td>50649</td>\n",
       "      <td>50649</td>\n",
       "      <td>50649</td>\n",
       "    </tr>\n",
       "    <tr>\n",
       "      <th>No beef</th>\n",
       "      <td>0.040103</td>\n",
       "      <td>0.483687</td>\n",
       "      <td>5.759169</td>\n",
       "      <td>23639</td>\n",
       "      <td>23639</td>\n",
       "      <td>23639</td>\n",
       "    </tr>\n",
       "    <tr>\n",
       "      <th rowspan=\"2\" valign=\"top\">Family 2</th>\n",
       "      <th>Beef</th>\n",
       "      <td>0.001089</td>\n",
       "      <td>0.721539</td>\n",
       "      <td>7.719946</td>\n",
       "      <td>14690</td>\n",
       "      <td>14690</td>\n",
       "      <td>14690</td>\n",
       "    </tr>\n",
       "    <tr>\n",
       "      <th>No beef</th>\n",
       "      <td>0.002801</td>\n",
       "      <td>0.647516</td>\n",
       "      <td>6.713352</td>\n",
       "      <td>1071</td>\n",
       "      <td>1071</td>\n",
       "      <td>1071</td>\n",
       "    </tr>\n",
       "    <tr>\n",
       "      <th>Family 4</th>\n",
       "      <th>Beef</th>\n",
       "      <td>0.009780</td>\n",
       "      <td>0.794339</td>\n",
       "      <td>5.436488</td>\n",
       "      <td>8896</td>\n",
       "      <td>8896</td>\n",
       "      <td>8896</td>\n",
       "    </tr>\n",
       "  </tbody>\n",
       "</table>\n",
       "</div>"
      ],
      "text/plain": [
       "                            mean                                   count  \\\n",
       "                      is_churned order_rate sumorder_received is_churned   \n",
       "plan_type_x pref_beef                                                      \n",
       "2 Person    Beef        0.041659   0.484001          5.815218      50649   \n",
       "            No beef     0.040103   0.483687          5.759169      23639   \n",
       "Family 2    Beef        0.001089   0.721539          7.719946      14690   \n",
       "            No beef     0.002801   0.647516          6.713352       1071   \n",
       "Family 4    Beef        0.009780   0.794339          5.436488       8896   \n",
       "\n",
       "                                                    \n",
       "                      order_rate sumorder_received  \n",
       "plan_type_x pref_beef                               \n",
       "2 Person    Beef           50649             50649  \n",
       "            No beef        23639             23639  \n",
       "Family 2    Beef           14690             14690  \n",
       "            No beef         1071              1071  \n",
       "Family 4    Beef            8896              8896  "
      ]
     },
     "execution_count": 16,
     "metadata": {},
     "output_type": "execute_result"
    }
   ],
   "source": [
    "pd.pivot_table(combined,index=[\"plan_type_x\",\"pref_beef\"],values=[\"is_churned\",\"sumorder_received\",'order_rate'],\n",
    "               aggfunc=[np.mean, 'count'],fill_value=0)"
   ]
  },
  {
   "cell_type": "code",
   "execution_count": 23,
   "metadata": {},
   "outputs": [
    {
     "data": {
      "text/html": [
       "<div>\n",
       "<style scoped>\n",
       "    .dataframe tbody tr th:only-of-type {\n",
       "        vertical-align: middle;\n",
       "    }\n",
       "\n",
       "    .dataframe tbody tr th {\n",
       "        vertical-align: top;\n",
       "    }\n",
       "\n",
       "    .dataframe thead tr th {\n",
       "        text-align: left;\n",
       "    }\n",
       "\n",
       "    .dataframe thead tr:last-of-type th {\n",
       "        text-align: right;\n",
       "    }\n",
       "</style>\n",
       "<table border=\"1\" class=\"dataframe\">\n",
       "  <thead>\n",
       "    <tr>\n",
       "      <th></th>\n",
       "      <th colspan=\"3\" halign=\"left\">mean</th>\n",
       "      <th colspan=\"3\" halign=\"left\">count</th>\n",
       "    </tr>\n",
       "    <tr>\n",
       "      <th></th>\n",
       "      <th>is_churned</th>\n",
       "      <th>order_rate</th>\n",
       "      <th>sumorder_received</th>\n",
       "      <th>is_churned</th>\n",
       "      <th>order_rate</th>\n",
       "      <th>sumorder_received</th>\n",
       "    </tr>\n",
       "    <tr>\n",
       "      <th>plan_type_x</th>\n",
       "      <th></th>\n",
       "      <th></th>\n",
       "      <th></th>\n",
       "      <th></th>\n",
       "      <th></th>\n",
       "      <th></th>\n",
       "    </tr>\n",
       "  </thead>\n",
       "  <tbody>\n",
       "    <tr>\n",
       "      <th>2 Person</th>\n",
       "      <td>0.041164</td>\n",
       "      <td>0.483901</td>\n",
       "      <td>5.797383</td>\n",
       "      <td>74288</td>\n",
       "      <td>74288</td>\n",
       "      <td>74288</td>\n",
       "    </tr>\n",
       "    <tr>\n",
       "      <th>Family 2</th>\n",
       "      <td>0.001206</td>\n",
       "      <td>0.716509</td>\n",
       "      <td>7.651545</td>\n",
       "      <td>15761</td>\n",
       "      <td>15761</td>\n",
       "      <td>15761</td>\n",
       "    </tr>\n",
       "    <tr>\n",
       "      <th>Family 4</th>\n",
       "      <td>0.009780</td>\n",
       "      <td>0.794339</td>\n",
       "      <td>5.436488</td>\n",
       "      <td>8896</td>\n",
       "      <td>8896</td>\n",
       "      <td>8896</td>\n",
       "    </tr>\n",
       "  </tbody>\n",
       "</table>\n",
       "</div>"
      ],
      "text/plain": [
       "                  mean                                   count             \\\n",
       "            is_churned order_rate sumorder_received is_churned order_rate   \n",
       "plan_type_x                                                                 \n",
       "2 Person      0.041164   0.483901          5.797383      74288      74288   \n",
       "Family 2      0.001206   0.716509          7.651545      15761      15761   \n",
       "Family 4      0.009780   0.794339          5.436488       8896       8896   \n",
       "\n",
       "                               \n",
       "            sumorder_received  \n",
       "plan_type_x                    \n",
       "2 Person                74288  \n",
       "Family 2                15761  \n",
       "Family 4                 8896  "
      ]
     },
     "execution_count": 23,
     "metadata": {},
     "output_type": "execute_result"
    }
   ],
   "source": [
    "pd.pivot_table(combined,index=[\"plan_type_x\"],values=[\"is_churned\",\"sumorder_received\",'order_rate'],\n",
    "               aggfunc=[np.mean, 'count'],fill_value=0)"
   ]
  },
  {
   "cell_type": "code",
   "execution_count": 24,
   "metadata": {},
   "outputs": [
    {
     "data": {
      "text/plain": [
       "(array([   15.,   117.,   317.,   600.,   776.,  1243.,  1859.,  1852.,\n",
       "         2431.,  2730.,  4209.,  1830.,  3008.,  2235.,  6722.,   564.,\n",
       "         1280.,  1994.,  3364.,  1846.,  1275.,   613.,   196.,  6935.,\n",
       "          506.,  1175.,  1140.,   670.,  2443.,  1775.,   851.,  6984.,\n",
       "         1220.,  3167.,  1756.,  5547.,  2497.,   891.,  4999.,  2944.,\n",
       "         2468.,  1478.,  1049.,  1123.,   487.,   168.,    22.,  5574.]),\n",
       " array([ 0.03225806,  0.05241935,  0.07258065,  0.09274194,  0.11290323,\n",
       "         0.13306452,  0.15322581,  0.1733871 ,  0.19354839,  0.21370968,\n",
       "         0.23387097,  0.25403226,  0.27419355,  0.29435484,  0.31451613,\n",
       "         0.33467742,  0.35483871,  0.375     ,  0.39516129,  0.41532258,\n",
       "         0.43548387,  0.45564516,  0.47580645,  0.49596774,  0.51612903,\n",
       "         0.53629032,  0.55645161,  0.5766129 ,  0.59677419,  0.61693548,\n",
       "         0.63709677,  0.65725806,  0.67741935,  0.69758065,  0.71774194,\n",
       "         0.73790323,  0.75806452,  0.77822581,  0.7983871 ,  0.81854839,\n",
       "         0.83870968,  0.85887097,  0.87903226,  0.89919355,  0.91935484,\n",
       "         0.93951613,  0.95967742,  0.97983871,  1.        ]),\n",
       " <a list of 48 Patch objects>)"
      ]
     },
     "execution_count": 24,
     "metadata": {},
     "output_type": "execute_result"
    },
    {
     "data": {
      "image/png": "[encoded data removed]",
      "text/plain": [
       "<Figure size 432x288 with 1 Axes>"
      ]
     },
     "metadata": {
      "needs_background": "light"
     },
     "output_type": "display_data"
    }
   ],
   "source": [
    "plt.xlabel('Order rate')\n",
    "plt.ylabel('Subscriptions')\n",
    "plt.title('Fig 1. Order rate distribution')\n",
    "\n",
    "plt.hist(order_history_agg['order_rate'], color='blue', edgecolor='black', bins=48)"
   ]
  },
  {
   "cell_type": "code",
   "execution_count": 26,
   "metadata": {},
   "outputs": [
    {
     "data": {
      "text/plain": [
       "0.5488644467292294"
      ]
     },
     "execution_count": 26,
     "metadata": {},
     "output_type": "execute_result"
    }
   ],
   "source": [
    "combined['order_rate'].mean()"
   ]
  },
  {
   "cell_type": "code",
   "execution_count": 38,
   "metadata": {},
   "outputs": [
    {
     "data": {
      "text/html": [
       "<div>\n",
       "<style scoped>\n",
       "    .dataframe tbody tr th:only-of-type {\n",
       "        vertical-align: middle;\n",
       "    }\n",
       "\n",
       "    .dataframe tbody tr th {\n",
       "        vertical-align: top;\n",
       "    }\n",
       "\n",
       "    .dataframe thead th {\n",
       "        text-align: right;\n",
       "    }\n",
       "</style>\n",
       "<table border=\"1\" class=\"dataframe\">\n",
       "  <thead>\n",
       "    <tr style=\"text-align: right;\">\n",
       "      <th></th>\n",
       "      <th>subscription_id</th>\n",
       "      <th>sumorder_received</th>\n",
       "      <th>countorder_received</th>\n",
       "      <th>order_rate</th>\n",
       "      <th>customer_id</th>\n",
       "      <th>plan_type_x</th>\n",
       "      <th>protein_preferences</th>\n",
       "      <th>plan_type_y</th>\n",
       "      <th>is_churned</th>\n",
       "      <th>pref_beef</th>\n",
       "      <th>pref_chicken</th>\n",
       "      <th>pref_fish</th>\n",
       "      <th>pref_lamb</th>\n",
       "      <th>pref_veg</th>\n",
       "      <th>lifetime_value</th>\n",
       "      <th>start_date</th>\n",
       "      <th>start_dt</th>\n",
       "    </tr>\n",
       "  </thead>\n",
       "  <tbody>\n",
       "    <tr>\n",
       "      <th>0</th>\n",
       "      <td>10000114</td>\n",
       "      <td>2</td>\n",
       "      <td>5</td>\n",
       "      <td>0.400000</td>\n",
       "      <td>15776</td>\n",
       "      <td>2 Person</td>\n",
       "      <td>Chicken,No beef,Fish,Lamb,Vegetarian</td>\n",
       "      <td>2 Person</td>\n",
       "      <td>False</td>\n",
       "      <td>No beef</td>\n",
       "      <td>Chicken</td>\n",
       "      <td>Fish</td>\n",
       "      <td>Lamb</td>\n",
       "      <td>Vegetarian</td>\n",
       "      <td>150.478975</td>\n",
       "      <td>2015-05-03</td>\n",
       "      <td>2015-05-03</td>\n",
       "    </tr>\n",
       "    <tr>\n",
       "      <th>1</th>\n",
       "      <td>10000158</td>\n",
       "      <td>2</td>\n",
       "      <td>2</td>\n",
       "      <td>1.000000</td>\n",
       "      <td>82857</td>\n",
       "      <td>2 Person</td>\n",
       "      <td>Chicken,No beef,No fish,No lamb,No vegetarian</td>\n",
       "      <td>2 Person</td>\n",
       "      <td>False</td>\n",
       "      <td>No beef</td>\n",
       "      <td>Chicken</td>\n",
       "      <td>No fish</td>\n",
       "      <td>No lamb</td>\n",
       "      <td>No vegetarian</td>\n",
       "      <td>367.895150</td>\n",
       "      <td>2015-04-26</td>\n",
       "      <td>2015-04-26</td>\n",
       "    </tr>\n",
       "    <tr>\n",
       "      <th>2</th>\n",
       "      <td>10000283</td>\n",
       "      <td>2</td>\n",
       "      <td>4</td>\n",
       "      <td>0.500000</td>\n",
       "      <td>29092</td>\n",
       "      <td>2 Person</td>\n",
       "      <td>No chicken,No beef,Fish,No lamb,No vegetarian</td>\n",
       "      <td>2 Person</td>\n",
       "      <td>False</td>\n",
       "      <td>No beef</td>\n",
       "      <td>No chicken</td>\n",
       "      <td>Fish</td>\n",
       "      <td>No lamb</td>\n",
       "      <td>No vegetarian</td>\n",
       "      <td>193.522628</td>\n",
       "      <td>2015-02-01</td>\n",
       "      <td>2015-02-01</td>\n",
       "    </tr>\n",
       "    <tr>\n",
       "      <th>3</th>\n",
       "      <td>10000335</td>\n",
       "      <td>2</td>\n",
       "      <td>3</td>\n",
       "      <td>0.666667</td>\n",
       "      <td>5834</td>\n",
       "      <td>2 Person</td>\n",
       "      <td>Chicken,Beef,No fish,No lamb,Vegetarian</td>\n",
       "      <td>2 Person</td>\n",
       "      <td>False</td>\n",
       "      <td>Beef</td>\n",
       "      <td>Chicken</td>\n",
       "      <td>No fish</td>\n",
       "      <td>No lamb</td>\n",
       "      <td>Vegetarian</td>\n",
       "      <td>470.824730</td>\n",
       "      <td>2015-07-12</td>\n",
       "      <td>2015-07-12</td>\n",
       "    </tr>\n",
       "    <tr>\n",
       "      <th>4</th>\n",
       "      <td>10000378</td>\n",
       "      <td>19</td>\n",
       "      <td>21</td>\n",
       "      <td>0.904762</td>\n",
       "      <td>13931</td>\n",
       "      <td>2 Person</td>\n",
       "      <td>No chicken,Beef,No fish,No lamb,No vegetarian</td>\n",
       "      <td>2 Person</td>\n",
       "      <td>False</td>\n",
       "      <td>Beef</td>\n",
       "      <td>No chicken</td>\n",
       "      <td>No fish</td>\n",
       "      <td>No lamb</td>\n",
       "      <td>No vegetarian</td>\n",
       "      <td>426.966588</td>\n",
       "      <td>2015-06-28</td>\n",
       "      <td>2015-06-28</td>\n",
       "    </tr>\n",
       "  </tbody>\n",
       "</table>\n",
       "</div>"
      ],
      "text/plain": [
       "   subscription_id  sumorder_received  countorder_received  order_rate  \\\n",
       "0         10000114                  2                    5    0.400000   \n",
       "1         10000158                  2                    2    1.000000   \n",
       "2         10000283                  2                    4    0.500000   \n",
       "3         10000335                  2                    3    0.666667   \n",
       "4         10000378                 19                   21    0.904762   \n",
       "\n",
       "   customer_id plan_type_x                            protein_preferences  \\\n",
       "0        15776    2 Person           Chicken,No beef,Fish,Lamb,Vegetarian   \n",
       "1        82857    2 Person  Chicken,No beef,No fish,No lamb,No vegetarian   \n",
       "2        29092    2 Person  No chicken,No beef,Fish,No lamb,No vegetarian   \n",
       "3         5834    2 Person        Chicken,Beef,No fish,No lamb,Vegetarian   \n",
       "4        13931    2 Person  No chicken,Beef,No fish,No lamb,No vegetarian   \n",
       "\n",
       "  plan_type_y  is_churned pref_beef pref_chicken pref_fish pref_lamb  \\\n",
       "0    2 Person       False   No beef      Chicken      Fish      Lamb   \n",
       "1    2 Person       False   No beef      Chicken   No fish   No lamb   \n",
       "2    2 Person       False   No beef   No chicken      Fish   No lamb   \n",
       "3    2 Person       False      Beef      Chicken   No fish   No lamb   \n",
       "4    2 Person       False      Beef   No chicken   No fish   No lamb   \n",
       "\n",
       "        pref_veg  lifetime_value  start_date   start_dt  \n",
       "0     Vegetarian      150.478975  2015-05-03 2015-05-03  \n",
       "1  No vegetarian      367.895150  2015-04-26 2015-04-26  \n",
       "2  No vegetarian      193.522628  2015-02-01 2015-02-01  \n",
       "3     Vegetarian      470.824730  2015-07-12 2015-07-12  \n",
       "4  No vegetarian      426.966588  2015-06-28 2015-06-28  "
      ]
     },
     "execution_count": 38,
     "metadata": {},
     "output_type": "execute_result"
    }
   ],
   "source": [
    "combined.head()"
   ]
  },
  {
   "cell_type": "code",
   "execution_count": 31,
   "metadata": {},
   "outputs": [
    {
     "data": {
      "text/plain": [
       "subscription_id                 int64\n",
       "sumorder_received               int64\n",
       "countorder_received             int64\n",
       "order_rate                    float64\n",
       "customer_id                     int64\n",
       "plan_type_x                    object\n",
       "protein_preferences            object\n",
       "plan_type_y                    object\n",
       "is_churned                       bool\n",
       "pref_beef                      object\n",
       "pref_chicken                   object\n",
       "pref_fish                      object\n",
       "pref_lamb                      object\n",
       "pref_veg                       object\n",
       "lifetime_value                float64\n",
       "start_date                     object\n",
       "start_dt               datetime64[ns]\n",
       "dtype: object"
      ]
     },
     "execution_count": 31,
     "metadata": {},
     "output_type": "execute_result"
    }
   ],
   "source": [
    "combined.dtypes"
   ]
  },
  {
   "cell_type": "code",
   "execution_count": 37,
   "metadata": {},
   "outputs": [
    {
     "data": {
      "text/plain": [
       "<matplotlib.axes._subplots.AxesSubplot at 0x2b6625eb588>"
      ]
     },
     "execution_count": 37,
     "metadata": {},
     "output_type": "execute_result"
    },
    {
     "data": {
      "image/png": "[encoded data removed]",
      "text/plain": [
       "<Figure size 432x288 with 1 Axes>"
      ]
     },
     "metadata": {
      "needs_background": "light"
     },
     "output_type": "display_data"
    }
   ],
   "source": [
    "import datetime as dt\n",
    "combined.loc[:,['order_rate','start_dt']].groupby(start_date_dt.dt.to_period('M')).mean().plot()\n"
   ]
  },
  {
   "cell_type": "code",
   "execution_count": 45,
   "metadata": {},
   "outputs": [
    {
     "data": {
      "text/plain": [
       "<matplotlib.axes._subplots.AxesSubplot at 0x2b662860c18>"
      ]
     },
     "execution_count": 45,
     "metadata": {},
     "output_type": "execute_result"
    },
    {
     "data": {
      "image/png": "[encoded data removed]",
      "text/plain": [
       "<Figure size 432x288 with 1 Axes>"
      ]
     },
     "metadata": {
      "needs_background": "light"
     },
     "output_type": "display_data"
    }
   ],
   "source": [
    "combined\n",
    "combined_cohort_churn=combined.loc[:,['is_churned','start_dt']].groupby(start_date_dt.dt.to_period('M')).mean()\n",
    "combined_cohort_churn['retention']=1-combined_cohort_churn['is_churned']\n",
    "combined_cohort_churn.drop('is_churned', axis=1).plot(color='orange')\n"
   ]
  },
  {
   "cell_type": "code",
   "execution_count": 141,
   "metadata": {},
   "outputs": [],
   "source": [
    "combined_cohort_churn_plan_pref=combined.loc[:,['is_churned','start_dt','plan_type_x', 'protein_preferences']].groupby(['plan_type_x','protein_preferences',start_date_dt.dt.to_period('M')]).mean()"
   ]
  },
  {
   "cell_type": "code",
   "execution_count": null,
   "metadata": {},
   "outputs": [],
   "source": []
  },
  {
   "cell_type": "code",
   "execution_count": 86,
   "metadata": {},
   "outputs": [
    {
     "data": {
      "text/html": [
       "<div>\n",
       "<style scoped>\n",
       "    .dataframe tbody tr th:only-of-type {\n",
       "        vertical-align: middle;\n",
       "    }\n",
       "\n",
       "    .dataframe tbody tr th {\n",
       "        vertical-align: top;\n",
       "    }\n",
       "\n",
       "    .dataframe thead th {\n",
       "        text-align: right;\n",
       "    }\n",
       "</style>\n",
       "<table border=\"1\" class=\"dataframe\">\n",
       "  <thead>\n",
       "    <tr style=\"text-align: right;\">\n",
       "      <th></th>\n",
       "      <th>plan_type_x</th>\n",
       "      <th>protein_preferences</th>\n",
       "      <th>start_dt</th>\n",
       "      <th>is_churned</th>\n",
       "      <th>retention</th>\n",
       "    </tr>\n",
       "  </thead>\n",
       "  <tbody>\n",
       "    <tr>\n",
       "      <th>0</th>\n",
       "      <td>2 Person</td>\n",
       "      <td>Chicken,Beef,Fish,Lamb,No vegetarian</td>\n",
       "      <td>2014-12</td>\n",
       "      <td>0.153846</td>\n",
       "      <td>0.846154</td>\n",
       "    </tr>\n",
       "    <tr>\n",
       "      <th>1</th>\n",
       "      <td>2 Person</td>\n",
       "      <td>Chicken,Beef,Fish,Lamb,No vegetarian</td>\n",
       "      <td>2015-01</td>\n",
       "      <td>0.076142</td>\n",
       "      <td>0.923858</td>\n",
       "    </tr>\n",
       "    <tr>\n",
       "      <th>2</th>\n",
       "      <td>2 Person</td>\n",
       "      <td>Chicken,Beef,Fish,Lamb,No vegetarian</td>\n",
       "      <td>2015-02</td>\n",
       "      <td>0.092920</td>\n",
       "      <td>0.907080</td>\n",
       "    </tr>\n",
       "    <tr>\n",
       "      <th>3</th>\n",
       "      <td>2 Person</td>\n",
       "      <td>Chicken,Beef,Fish,Lamb,No vegetarian</td>\n",
       "      <td>2015-03</td>\n",
       "      <td>0.059524</td>\n",
       "      <td>0.940476</td>\n",
       "    </tr>\n",
       "    <tr>\n",
       "      <th>4</th>\n",
       "      <td>2 Person</td>\n",
       "      <td>Chicken,Beef,Fish,Lamb,No vegetarian</td>\n",
       "      <td>2015-04</td>\n",
       "      <td>0.121951</td>\n",
       "      <td>0.878049</td>\n",
       "    </tr>\n",
       "  </tbody>\n",
       "</table>\n",
       "</div>"
      ],
      "text/plain": [
       "  plan_type_x                   protein_preferences start_dt  is_churned  \\\n",
       "0    2 Person  Chicken,Beef,Fish,Lamb,No vegetarian  2014-12    0.153846   \n",
       "1    2 Person  Chicken,Beef,Fish,Lamb,No vegetarian  2015-01    0.076142   \n",
       "2    2 Person  Chicken,Beef,Fish,Lamb,No vegetarian  2015-02    0.092920   \n",
       "3    2 Person  Chicken,Beef,Fish,Lamb,No vegetarian  2015-03    0.059524   \n",
       "4    2 Person  Chicken,Beef,Fish,Lamb,No vegetarian  2015-04    0.121951   \n",
       "\n",
       "   retention  \n",
       "0   0.846154  \n",
       "1   0.923858  \n",
       "2   0.907080  \n",
       "3   0.940476  \n",
       "4   0.878049  "
      ]
     },
     "execution_count": 86,
     "metadata": {},
     "output_type": "execute_result"
    }
   ],
   "source": [
    "combined_cohort_churn_plan_pref=combined_cohort_churn_plan_pref.reset_index()\n",
    "combined_cohort_churn_plan_pref['retention']=1-combined_cohort_churn_plan_pref['is_churned']\n",
    "combined_cohort_churn_plan_pref.head(15)"
   ]
  },
  {
   "cell_type": "code",
   "execution_count": 101,
   "metadata": {},
   "outputs": [],
   "source": [
    "combined_cohort_churn_plan_pref.to_excel(\"retention by month by plan by preference.xlsx\")"
   ]
  },
  {
   "cell_type": "code",
   "execution_count": 88,
   "metadata": {},
   "outputs": [],
   "source": [
    "combined_LTV=pd.merge(left=combined,right=combined_cohort_churn_plan_pref,how='left', left_on=['plan_type_x','protein_preferences','start_month'],right_on=['plan_type_x','protein_preferences','start_dt'])"
   ]
  },
  {
   "cell_type": "code",
   "execution_count": 102,
   "metadata": {},
   "outputs": [],
   "source": [
    "combined_LTV_all=combined_LTV.drop(['plan_type_y','start_date','start_dt_x','start_dt_y','is_churned_x',],axis=1)"
   ]
  },
  {
   "cell_type": "code",
   "execution_count": 103,
   "metadata": {
    "collapsed": true
   },
   "outputs": [],
   "source": [
    "combined_LTV_all.to_excel(\"output.xlsx\")"
   ]
  },
  {
   "cell_type": "code",
   "execution_count": 57,
   "metadata": {
    "collapsed": true
   },
   "outputs": [],
   "source": [
    "order_rate=combined.loc[:,['order_rate','start_dt']].groupby(start_date_dt.dt.to_period('M')).mean()"
   ]
  },
  {
   "cell_type": "code",
   "execution_count": 61,
   "metadata": {},
   "outputs": [
    {
     "data": {
      "text/html": [
       "<div>\n",
       "<style scoped>\n",
       "    .dataframe tbody tr th:only-of-type {\n",
       "        vertical-align: middle;\n",
       "    }\n",
       "\n",
       "    .dataframe tbody tr th {\n",
       "        vertical-align: top;\n",
       "    }\n",
       "\n",
       "    .dataframe thead th {\n",
       "        text-align: right;\n",
       "    }\n",
       "</style>\n",
       "<table border=\"1\" class=\"dataframe\">\n",
       "  <thead>\n",
       "    <tr style=\"text-align: right;\">\n",
       "      <th></th>\n",
       "      <th>subscription_id</th>\n",
       "      <th>sumorder_received</th>\n",
       "      <th>countorder_received</th>\n",
       "      <th>order_rate</th>\n",
       "      <th>customer_id</th>\n",
       "      <th>plan_type_x</th>\n",
       "      <th>protein_preferences</th>\n",
       "      <th>plan_type_y</th>\n",
       "      <th>is_churned_x</th>\n",
       "      <th>pref_beef</th>\n",
       "      <th>pref_chicken</th>\n",
       "      <th>pref_fish</th>\n",
       "      <th>pref_lamb</th>\n",
       "      <th>pref_veg</th>\n",
       "      <th>lifetime_value</th>\n",
       "      <th>start_date</th>\n",
       "      <th>start_dt</th>\n",
       "      <th>start_month</th>\n",
       "      <th>is_churned_y</th>\n",
       "      <th>retention</th>\n",
       "    </tr>\n",
       "  </thead>\n",
       "  <tbody>\n",
       "    <tr>\n",
       "      <th>0</th>\n",
       "      <td>10000114</td>\n",
       "      <td>2</td>\n",
       "      <td>5</td>\n",
       "      <td>0.400000</td>\n",
       "      <td>15776</td>\n",
       "      <td>2 Person</td>\n",
       "      <td>Chicken,No beef,Fish,Lamb,Vegetarian</td>\n",
       "      <td>2 Person</td>\n",
       "      <td>False</td>\n",
       "      <td>No beef</td>\n",
       "      <td>Chicken</td>\n",
       "      <td>Fish</td>\n",
       "      <td>Lamb</td>\n",
       "      <td>Vegetarian</td>\n",
       "      <td>150.478975</td>\n",
       "      <td>2015-05-03</td>\n",
       "      <td>2015-05-03</td>\n",
       "      <td>2015-05</td>\n",
       "      <td>0.031526</td>\n",
       "      <td>0.968474</td>\n",
       "    </tr>\n",
       "    <tr>\n",
       "      <th>1</th>\n",
       "      <td>10000158</td>\n",
       "      <td>2</td>\n",
       "      <td>2</td>\n",
       "      <td>1.000000</td>\n",
       "      <td>82857</td>\n",
       "      <td>2 Person</td>\n",
       "      <td>Chicken,No beef,No fish,No lamb,No vegetarian</td>\n",
       "      <td>2 Person</td>\n",
       "      <td>False</td>\n",
       "      <td>No beef</td>\n",
       "      <td>Chicken</td>\n",
       "      <td>No fish</td>\n",
       "      <td>No lamb</td>\n",
       "      <td>No vegetarian</td>\n",
       "      <td>367.895150</td>\n",
       "      <td>2015-04-26</td>\n",
       "      <td>2015-04-26</td>\n",
       "      <td>2015-04</td>\n",
       "      <td>0.032728</td>\n",
       "      <td>0.967272</td>\n",
       "    </tr>\n",
       "    <tr>\n",
       "      <th>2</th>\n",
       "      <td>10000283</td>\n",
       "      <td>2</td>\n",
       "      <td>4</td>\n",
       "      <td>0.500000</td>\n",
       "      <td>29092</td>\n",
       "      <td>2 Person</td>\n",
       "      <td>No chicken,No beef,Fish,No lamb,No vegetarian</td>\n",
       "      <td>2 Person</td>\n",
       "      <td>False</td>\n",
       "      <td>No beef</td>\n",
       "      <td>No chicken</td>\n",
       "      <td>Fish</td>\n",
       "      <td>No lamb</td>\n",
       "      <td>No vegetarian</td>\n",
       "      <td>193.522628</td>\n",
       "      <td>2015-02-01</td>\n",
       "      <td>2015-02-01</td>\n",
       "      <td>2015-02</td>\n",
       "      <td>0.033076</td>\n",
       "      <td>0.966924</td>\n",
       "    </tr>\n",
       "    <tr>\n",
       "      <th>3</th>\n",
       "      <td>10000335</td>\n",
       "      <td>2</td>\n",
       "      <td>3</td>\n",
       "      <td>0.666667</td>\n",
       "      <td>5834</td>\n",
       "      <td>2 Person</td>\n",
       "      <td>Chicken,Beef,No fish,No lamb,Vegetarian</td>\n",
       "      <td>2 Person</td>\n",
       "      <td>False</td>\n",
       "      <td>Beef</td>\n",
       "      <td>Chicken</td>\n",
       "      <td>No fish</td>\n",
       "      <td>No lamb</td>\n",
       "      <td>Vegetarian</td>\n",
       "      <td>470.824730</td>\n",
       "      <td>2015-07-12</td>\n",
       "      <td>2015-07-12</td>\n",
       "      <td>2015-07</td>\n",
       "      <td>0.032190</td>\n",
       "      <td>0.967810</td>\n",
       "    </tr>\n",
       "    <tr>\n",
       "      <th>4</th>\n",
       "      <td>10000378</td>\n",
       "      <td>19</td>\n",
       "      <td>21</td>\n",
       "      <td>0.904762</td>\n",
       "      <td>13931</td>\n",
       "      <td>2 Person</td>\n",
       "      <td>No chicken,Beef,No fish,No lamb,No vegetarian</td>\n",
       "      <td>2 Person</td>\n",
       "      <td>False</td>\n",
       "      <td>Beef</td>\n",
       "      <td>No chicken</td>\n",
       "      <td>No fish</td>\n",
       "      <td>No lamb</td>\n",
       "      <td>No vegetarian</td>\n",
       "      <td>426.966588</td>\n",
       "      <td>2015-06-28</td>\n",
       "      <td>2015-06-28</td>\n",
       "      <td>2015-06</td>\n",
       "      <td>0.030655</td>\n",
       "      <td>0.969345</td>\n",
       "    </tr>\n",
       "  </tbody>\n",
       "</table>\n",
       "</div>"
      ],
      "text/plain": [
       "   subscription_id  sumorder_received  countorder_received  order_rate  \\\n",
       "0         10000114                  2                    5    0.400000   \n",
       "1         10000158                  2                    2    1.000000   \n",
       "2         10000283                  2                    4    0.500000   \n",
       "3         10000335                  2                    3    0.666667   \n",
       "4         10000378                 19                   21    0.904762   \n",
       "\n",
       "   customer_id plan_type_x                            protein_preferences  \\\n",
       "0        15776    2 Person           Chicken,No beef,Fish,Lamb,Vegetarian   \n",
       "1        82857    2 Person  Chicken,No beef,No fish,No lamb,No vegetarian   \n",
       "2        29092    2 Person  No chicken,No beef,Fish,No lamb,No vegetarian   \n",
       "3         5834    2 Person        Chicken,Beef,No fish,No lamb,Vegetarian   \n",
       "4        13931    2 Person  No chicken,Beef,No fish,No lamb,No vegetarian   \n",
       "\n",
       "  plan_type_y  is_churned_x pref_beef pref_chicken pref_fish pref_lamb  \\\n",
       "0    2 Person         False   No beef      Chicken      Fish      Lamb   \n",
       "1    2 Person         False   No beef      Chicken   No fish   No lamb   \n",
       "2    2 Person         False   No beef   No chicken      Fish   No lamb   \n",
       "3    2 Person         False      Beef      Chicken   No fish   No lamb   \n",
       "4    2 Person         False      Beef   No chicken   No fish   No lamb   \n",
       "\n",
       "        pref_veg  lifetime_value  start_date   start_dt start_month  \\\n",
       "0     Vegetarian      150.478975  2015-05-03 2015-05-03     2015-05   \n",
       "1  No vegetarian      367.895150  2015-04-26 2015-04-26     2015-04   \n",
       "2  No vegetarian      193.522628  2015-02-01 2015-02-01     2015-02   \n",
       "3     Vegetarian      470.824730  2015-07-12 2015-07-12     2015-07   \n",
       "4  No vegetarian      426.966588  2015-06-28 2015-06-28     2015-06   \n",
       "\n",
       "   is_churned_y  retention  \n",
       "0      0.031526   0.968474  \n",
       "1      0.032728   0.967272  \n",
       "2      0.033076   0.966924  \n",
       "3      0.032190   0.967810  \n",
       "4      0.030655   0.969345  "
      ]
     },
     "execution_count": 61,
     "metadata": {},
     "output_type": "execute_result"
    }
   ],
   "source": [
    "combined['start_month']=combined['start_dt'].dt.to_period('M')\n",
    "combined['start_month']\n",
    "combined_LTV=pd.merge(combined, combined_cohort_churn, left_on='start_month', right_on='start_dt', how='left')\n",
    "combined_LTV.head()"
   ]
  },
  {
   "cell_type": "code",
   "execution_count": 105,
   "metadata": {},
   "outputs": [
    {
     "data": {
      "text/html": [
       "<div>\n",
       "<style scoped>\n",
       "    .dataframe tbody tr th:only-of-type {\n",
       "        vertical-align: middle;\n",
       "    }\n",
       "\n",
       "    .dataframe tbody tr th {\n",
       "        vertical-align: top;\n",
       "    }\n",
       "\n",
       "    .dataframe thead th {\n",
       "        text-align: right;\n",
       "    }\n",
       "</style>\n",
       "<table border=\"1\" class=\"dataframe\">\n",
       "  <thead>\n",
       "    <tr style=\"text-align: right;\">\n",
       "      <th></th>\n",
       "      <th>subscription_id</th>\n",
       "      <th>sumorder_received</th>\n",
       "      <th>countorder_received</th>\n",
       "      <th>order_rate</th>\n",
       "      <th>customer_id</th>\n",
       "      <th>plan_type_x</th>\n",
       "      <th>protein_preferences</th>\n",
       "      <th>pref_beef</th>\n",
       "      <th>pref_chicken</th>\n",
       "      <th>pref_fish</th>\n",
       "      <th>pref_lamb</th>\n",
       "      <th>pref_veg</th>\n",
       "      <th>lifetime_value</th>\n",
       "      <th>start_month</th>\n",
       "      <th>is_churned_y</th>\n",
       "      <th>retention</th>\n",
       "    </tr>\n",
       "  </thead>\n",
       "  <tbody>\n",
       "    <tr>\n",
       "      <th>0</th>\n",
       "      <td>10000114</td>\n",
       "      <td>2</td>\n",
       "      <td>5</td>\n",
       "      <td>0.400000</td>\n",
       "      <td>15776</td>\n",
       "      <td>2 Person</td>\n",
       "      <td>Chicken,No beef,Fish,Lamb,Vegetarian</td>\n",
       "      <td>No beef</td>\n",
       "      <td>Chicken</td>\n",
       "      <td>Fish</td>\n",
       "      <td>Lamb</td>\n",
       "      <td>Vegetarian</td>\n",
       "      <td>150.478975</td>\n",
       "      <td>2015-05</td>\n",
       "      <td>0.039773</td>\n",
       "      <td>0.960227</td>\n",
       "    </tr>\n",
       "    <tr>\n",
       "      <th>1</th>\n",
       "      <td>10000158</td>\n",
       "      <td>2</td>\n",
       "      <td>2</td>\n",
       "      <td>1.000000</td>\n",
       "      <td>82857</td>\n",
       "      <td>2 Person</td>\n",
       "      <td>Chicken,No beef,No fish,No lamb,No vegetarian</td>\n",
       "      <td>No beef</td>\n",
       "      <td>Chicken</td>\n",
       "      <td>No fish</td>\n",
       "      <td>No lamb</td>\n",
       "      <td>No vegetarian</td>\n",
       "      <td>367.895150</td>\n",
       "      <td>2015-04</td>\n",
       "      <td>0.000000</td>\n",
       "      <td>1.000000</td>\n",
       "    </tr>\n",
       "    <tr>\n",
       "      <th>2</th>\n",
       "      <td>10000283</td>\n",
       "      <td>2</td>\n",
       "      <td>4</td>\n",
       "      <td>0.500000</td>\n",
       "      <td>29092</td>\n",
       "      <td>2 Person</td>\n",
       "      <td>No chicken,No beef,Fish,No lamb,No vegetarian</td>\n",
       "      <td>No beef</td>\n",
       "      <td>No chicken</td>\n",
       "      <td>Fish</td>\n",
       "      <td>No lamb</td>\n",
       "      <td>No vegetarian</td>\n",
       "      <td>193.522628</td>\n",
       "      <td>2015-02</td>\n",
       "      <td>0.059524</td>\n",
       "      <td>0.940476</td>\n",
       "    </tr>\n",
       "    <tr>\n",
       "      <th>3</th>\n",
       "      <td>10000335</td>\n",
       "      <td>2</td>\n",
       "      <td>3</td>\n",
       "      <td>0.666667</td>\n",
       "      <td>5834</td>\n",
       "      <td>2 Person</td>\n",
       "      <td>Chicken,Beef,No fish,No lamb,Vegetarian</td>\n",
       "      <td>Beef</td>\n",
       "      <td>Chicken</td>\n",
       "      <td>No fish</td>\n",
       "      <td>No lamb</td>\n",
       "      <td>Vegetarian</td>\n",
       "      <td>470.824730</td>\n",
       "      <td>2015-07</td>\n",
       "      <td>0.000000</td>\n",
       "      <td>1.000000</td>\n",
       "    </tr>\n",
       "    <tr>\n",
       "      <th>4</th>\n",
       "      <td>10000378</td>\n",
       "      <td>19</td>\n",
       "      <td>21</td>\n",
       "      <td>0.904762</td>\n",
       "      <td>13931</td>\n",
       "      <td>2 Person</td>\n",
       "      <td>No chicken,Beef,No fish,No lamb,No vegetarian</td>\n",
       "      <td>Beef</td>\n",
       "      <td>No chicken</td>\n",
       "      <td>No fish</td>\n",
       "      <td>No lamb</td>\n",
       "      <td>No vegetarian</td>\n",
       "      <td>426.966588</td>\n",
       "      <td>2015-06</td>\n",
       "      <td>0.000000</td>\n",
       "      <td>1.000000</td>\n",
       "    </tr>\n",
       "  </tbody>\n",
       "</table>\n",
       "</div>"
      ],
      "text/plain": [
       "   subscription_id  sumorder_received  countorder_received  order_rate  \\\n",
       "0         10000114                  2                    5    0.400000   \n",
       "1         10000158                  2                    2    1.000000   \n",
       "2         10000283                  2                    4    0.500000   \n",
       "3         10000335                  2                    3    0.666667   \n",
       "4         10000378                 19                   21    0.904762   \n",
       "\n",
       "   customer_id plan_type_x                            protein_preferences  \\\n",
       "0        15776    2 Person           Chicken,No beef,Fish,Lamb,Vegetarian   \n",
       "1        82857    2 Person  Chicken,No beef,No fish,No lamb,No vegetarian   \n",
       "2        29092    2 Person  No chicken,No beef,Fish,No lamb,No vegetarian   \n",
       "3         5834    2 Person        Chicken,Beef,No fish,No lamb,Vegetarian   \n",
       "4        13931    2 Person  No chicken,Beef,No fish,No lamb,No vegetarian   \n",
       "\n",
       "  pref_beef pref_chicken pref_fish pref_lamb       pref_veg  lifetime_value  \\\n",
       "0   No beef      Chicken      Fish      Lamb     Vegetarian      150.478975   \n",
       "1   No beef      Chicken   No fish   No lamb  No vegetarian      367.895150   \n",
       "2   No beef   No chicken      Fish   No lamb  No vegetarian      193.522628   \n",
       "3      Beef      Chicken   No fish   No lamb     Vegetarian      470.824730   \n",
       "4      Beef   No chicken   No fish   No lamb  No vegetarian      426.966588   \n",
       "\n",
       "  start_month  is_churned_y  retention  \n",
       "0     2015-05      0.039773   0.960227  \n",
       "1     2015-04      0.000000   1.000000  \n",
       "2     2015-02      0.059524   0.940476  \n",
       "3     2015-07      0.000000   1.000000  \n",
       "4     2015-06      0.000000   1.000000  "
      ]
     },
     "execution_count": 105,
     "metadata": {},
     "output_type": "execute_result"
    }
   ],
   "source": [
    "combined_LTV_all.head()"
   ]
  },
  {
   "cell_type": "code",
   "execution_count": null,
   "metadata": {},
   "outputs": [],
   "source": []
  },
  {
   "cell_type": "code",
   "execution_count": null,
   "metadata": {},
   "outputs": [],
   "source": []
  },
  {
   "cell_type": "code",
   "execution_count": 112,
   "metadata": {
    "collapsed": true
   },
   "outputs": [],
   "source": [
    "combined_LTV_all_1=pd.get_dummies(combined_LTV_all, columns=['plan_type_x'])\n"
   ]
  },
  {
   "cell_type": "code",
   "execution_count": 117,
   "metadata": {},
   "outputs": [],
   "source": [
    "combined_LTV_all_1.pref_beef.replace({'No beef': 0, 'Beef':1}, inplace=True)\n",
    "combined_LTV_all_1.pref_chicken.replace({'No chicken': 0, 'Chicken':1}, inplace=True)\n",
    "combined_LTV_all_1.pref_fish.replace({'No fish': 0, 'Fish':1}, inplace=True)\n",
    "combined_LTV_all_1.pref_lamb.replace({'No lamb': 0, 'Lamb':1}, inplace=True)\n",
    "combined_LTV_all_1.pref_veg.replace({'No vegetarian': 0, 'Vegetarian':1}, inplace=True)\n"
   ]
  },
  {
   "cell_type": "code",
   "execution_count": 119,
   "metadata": {},
   "outputs": [],
   "source": [
    "combined_LTV_all_1.to_excel(\"output2.xlsx\")"
   ]
  },
  {
   "cell_type": "code",
   "execution_count": 120,
   "metadata": {},
   "outputs": [
    {
     "data": {
      "text/html": [
       "<div>\n",
       "<style scoped>\n",
       "    .dataframe tbody tr th:only-of-type {\n",
       "        vertical-align: middle;\n",
       "    }\n",
       "\n",
       "    .dataframe tbody tr th {\n",
       "        vertical-align: top;\n",
       "    }\n",
       "\n",
       "    .dataframe thead th {\n",
       "        text-align: right;\n",
       "    }\n",
       "</style>\n",
       "<table border=\"1\" class=\"dataframe\">\n",
       "  <thead>\n",
       "    <tr style=\"text-align: right;\">\n",
       "      <th></th>\n",
       "      <th>subscription_id</th>\n",
       "      <th>sumorder_received</th>\n",
       "      <th>countorder_received</th>\n",
       "      <th>order_rate</th>\n",
       "      <th>customer_id</th>\n",
       "      <th>protein_preferences</th>\n",
       "      <th>pref_beef</th>\n",
       "      <th>pref_chicken</th>\n",
       "      <th>pref_fish</th>\n",
       "      <th>pref_lamb</th>\n",
       "      <th>pref_veg</th>\n",
       "      <th>lifetime_value</th>\n",
       "      <th>start_month</th>\n",
       "      <th>is_churned_y</th>\n",
       "      <th>retention</th>\n",
       "      <th>plan_type_x_2 Person</th>\n",
       "      <th>plan_type_x_Family 2</th>\n",
       "      <th>plan_type_x_Family 4</th>\n",
       "    </tr>\n",
       "  </thead>\n",
       "  <tbody>\n",
       "    <tr>\n",
       "      <th>0</th>\n",
       "      <td>10000114</td>\n",
       "      <td>2</td>\n",
       "      <td>5</td>\n",
       "      <td>0.400000</td>\n",
       "      <td>15776</td>\n",
       "      <td>Chicken,No beef,Fish,Lamb,Vegetarian</td>\n",
       "      <td>0</td>\n",
       "      <td>1</td>\n",
       "      <td>1</td>\n",
       "      <td>1</td>\n",
       "      <td>1</td>\n",
       "      <td>150.478975</td>\n",
       "      <td>2015-05</td>\n",
       "      <td>0.039773</td>\n",
       "      <td>0.960227</td>\n",
       "      <td>1</td>\n",
       "      <td>0</td>\n",
       "      <td>0</td>\n",
       "    </tr>\n",
       "    <tr>\n",
       "      <th>1</th>\n",
       "      <td>10000158</td>\n",
       "      <td>2</td>\n",
       "      <td>2</td>\n",
       "      <td>1.000000</td>\n",
       "      <td>82857</td>\n",
       "      <td>Chicken,No beef,No fish,No lamb,No vegetarian</td>\n",
       "      <td>0</td>\n",
       "      <td>1</td>\n",
       "      <td>0</td>\n",
       "      <td>0</td>\n",
       "      <td>0</td>\n",
       "      <td>367.895150</td>\n",
       "      <td>2015-04</td>\n",
       "      <td>0.000000</td>\n",
       "      <td>1.000000</td>\n",
       "      <td>1</td>\n",
       "      <td>0</td>\n",
       "      <td>0</td>\n",
       "    </tr>\n",
       "    <tr>\n",
       "      <th>2</th>\n",
       "      <td>10000283</td>\n",
       "      <td>2</td>\n",
       "      <td>4</td>\n",
       "      <td>0.500000</td>\n",
       "      <td>29092</td>\n",
       "      <td>No chicken,No beef,Fish,No lamb,No vegetarian</td>\n",
       "      <td>0</td>\n",
       "      <td>0</td>\n",
       "      <td>1</td>\n",
       "      <td>0</td>\n",
       "      <td>0</td>\n",
       "      <td>193.522628</td>\n",
       "      <td>2015-02</td>\n",
       "      <td>0.059524</td>\n",
       "      <td>0.940476</td>\n",
       "      <td>1</td>\n",
       "      <td>0</td>\n",
       "      <td>0</td>\n",
       "    </tr>\n",
       "    <tr>\n",
       "      <th>3</th>\n",
       "      <td>10000335</td>\n",
       "      <td>2</td>\n",
       "      <td>3</td>\n",
       "      <td>0.666667</td>\n",
       "      <td>5834</td>\n",
       "      <td>Chicken,Beef,No fish,No lamb,Vegetarian</td>\n",
       "      <td>1</td>\n",
       "      <td>1</td>\n",
       "      <td>0</td>\n",
       "      <td>0</td>\n",
       "      <td>1</td>\n",
       "      <td>470.824730</td>\n",
       "      <td>2015-07</td>\n",
       "      <td>0.000000</td>\n",
       "      <td>1.000000</td>\n",
       "      <td>1</td>\n",
       "      <td>0</td>\n",
       "      <td>0</td>\n",
       "    </tr>\n",
       "    <tr>\n",
       "      <th>4</th>\n",
       "      <td>10000378</td>\n",
       "      <td>19</td>\n",
       "      <td>21</td>\n",
       "      <td>0.904762</td>\n",
       "      <td>13931</td>\n",
       "      <td>No chicken,Beef,No fish,No lamb,No vegetarian</td>\n",
       "      <td>1</td>\n",
       "      <td>0</td>\n",
       "      <td>0</td>\n",
       "      <td>0</td>\n",
       "      <td>0</td>\n",
       "      <td>426.966588</td>\n",
       "      <td>2015-06</td>\n",
       "      <td>0.000000</td>\n",
       "      <td>1.000000</td>\n",
       "      <td>1</td>\n",
       "      <td>0</td>\n",
       "      <td>0</td>\n",
       "    </tr>\n",
       "  </tbody>\n",
       "</table>\n",
       "</div>"
      ],
      "text/plain": [
       "   subscription_id  sumorder_received  countorder_received  order_rate  \\\n",
       "0         10000114                  2                    5    0.400000   \n",
       "1         10000158                  2                    2    1.000000   \n",
       "2         10000283                  2                    4    0.500000   \n",
       "3         10000335                  2                    3    0.666667   \n",
       "4         10000378                 19                   21    0.904762   \n",
       "\n",
       "   customer_id                            protein_preferences  pref_beef  \\\n",
       "0        15776           Chicken,No beef,Fish,Lamb,Vegetarian          0   \n",
       "1        82857  Chicken,No beef,No fish,No lamb,No vegetarian          0   \n",
       "2        29092  No chicken,No beef,Fish,No lamb,No vegetarian          0   \n",
       "3         5834        Chicken,Beef,No fish,No lamb,Vegetarian          1   \n",
       "4        13931  No chicken,Beef,No fish,No lamb,No vegetarian          1   \n",
       "\n",
       "   pref_chicken  pref_fish  pref_lamb  pref_veg  lifetime_value start_month  \\\n",
       "0             1          1          1         1      150.478975     2015-05   \n",
       "1             1          0          0         0      367.895150     2015-04   \n",
       "2             0          1          0         0      193.522628     2015-02   \n",
       "3             1          0          0         1      470.824730     2015-07   \n",
       "4             0          0          0         0      426.966588     2015-06   \n",
       "\n",
       "   is_churned_y  retention  plan_type_x_2 Person  plan_type_x_Family 2  \\\n",
       "0      0.039773   0.960227                     1                     0   \n",
       "1      0.000000   1.000000                     1                     0   \n",
       "2      0.059524   0.940476                     1                     0   \n",
       "3      0.000000   1.000000                     1                     0   \n",
       "4      0.000000   1.000000                     1                     0   \n",
       "\n",
       "   plan_type_x_Family 4  \n",
       "0                     0  \n",
       "1                     0  \n",
       "2                     0  \n",
       "3                     0  \n",
       "4                     0  "
      ]
     },
     "execution_count": 120,
     "metadata": {},
     "output_type": "execute_result"
    }
   ],
   "source": [
    "combined_LTV_all_1.head()"
   ]
  },
  {
   "cell_type": "code",
   "execution_count": null,
   "metadata": {
    "collapsed": true
   },
   "outputs": [],
   "source": []
  },
  {
   "cell_type": "code",
   "execution_count": 136,
   "metadata": {},
   "outputs": [],
   "source": [
    "\n",
    "combined_LTV_all_1.dropna(axis=0,how='any',inplace=True)\n",
    "x=combined_LTV_all_1.drop(['countorder_received','subscription_id','sumorder_received','customer_id','protein_preferences','start_month','is_churned_y','lifetime_value'],axis=1)\n",
    "y=combined_LTV_all_1['lifetime_value']\n"
   ]
  },
  {
   "cell_type": "code",
   "execution_count": 137,
   "metadata": {},
   "outputs": [
    {
     "data": {
      "text/plain": [
       "LinearRegression(copy_X=True, fit_intercept=True, n_jobs=1, normalize=False)"
      ]
     },
     "execution_count": 137,
     "metadata": {},
     "output_type": "execute_result"
    }
   ],
   "source": [
    "from sklearn.linear_model import LinearRegression\n",
    "\n",
    "regression_model = LinearRegression()\n",
    "regression_model.fit(x, y)"
   ]
  },
  {
   "cell_type": "code",
   "execution_count": 138,
   "metadata": {},
   "outputs": [
    {
     "data": {
      "text/plain": [
       "Index(['order_rate', 'pref_beef', 'pref_chicken', 'pref_fish', 'pref_lamb',\n",
       "       'pref_veg', 'retention', 'plan_type_x_2 Person', 'plan_type_x_Family 2',\n",
       "       'plan_type_x_Family 4'],\n",
       "      dtype='object')"
      ]
     },
     "execution_count": 138,
     "metadata": {},
     "output_type": "execute_result"
    }
   ],
   "source": [
    "x.columns"
   ]
  },
  {
   "cell_type": "code",
   "execution_count": 139,
   "metadata": {},
   "outputs": [
    {
     "data": {
      "text/plain": [
       "array([  151.08553319,    19.58470523,    12.77031066,   -85.86912086,\n",
       "         -43.78679366,    -3.55020429,  2030.26838235,   -87.63553971,\n",
       "           9.72369917,    77.91184053])"
      ]
     },
     "execution_count": 139,
     "metadata": {},
     "output_type": "execute_result"
    }
   ],
   "source": [
    "regression_model.coef_"
   ]
  },
  {
   "cell_type": "code",
   "execution_count": null,
   "metadata": {
    "collapsed": true
   },
   "outputs": [],
   "source": [
    "LTV=151* ['order_rate']+19.6*['pref_beef']+12.8*['pref_chicken']-86*['pref_fish']-44*['pref_lamb']-3['pref_veg']+2030['retention']\n",
    "-87.6*['2 Person']+9.7*['Family 2']+78*['Family 4']"
   ]
  },
  {
   "cell_type": "code",
   "execution_count": 140,
   "metadata": {},
   "outputs": [
    {
     "data": {
      "text/plain": [
       "0.81994657271088311"
      ]
     },
     "execution_count": 140,
     "metadata": {},
     "output_type": "execute_result"
    }
   ],
   "source": [
    "regression_model.score(x, y)"
   ]
  }
 ],
 "metadata": {
  "kernelspec": {
   "display_name": "Python 3",
   "language": "python",
   "name": "python3"
  },
  "language_info": {
   "codemirror_mode": {
    "name": "ipython",
    "version": 3
   },
   "file_extension": ".py",
   "mimetype": "text/x-python",
   "name": "python",
   "nbconvert_exporter": "python",
   "pygments_lexer": "ipython3",
   "version": "3.6.8"
  }
 },
 "nbformat": 4,
 "nbformat_minor": 2
}
