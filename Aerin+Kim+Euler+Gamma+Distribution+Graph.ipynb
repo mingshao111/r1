{
 "cells": [
  {
   "cell_type": "code",
   "execution_count": 1,
   "metadata": {},
   "outputs": [
    {
     "data": {
      "text/plain": [
       "<Figure size 640x480 with 1 Axes>"
      ]
     },
     "metadata": {},
     "output_type": "display_data"
    },
    {
     "data": {
      "text/plain": [
       "<Figure size 640x480 with 1 Axes>"
      ]
     },
     "metadata": {},
     "output_type": "display_data"
    },
    {
     "data": {
      "text/plain": [
       "<Figure size 640x480 with 1 Axes>"
      ]
     },
     "metadata": {},
     "output_type": "display_data"
    }
   ],
   "source": [
    "########################\n",
    "# f(x) = exp(-x) graph #\n",
    "########################\n",
    "import matplotlib.pyplot as plt\n",
    "import numpy as np\n",
    "# Create x and y\n",
    "x = np.linspace(-2, 20, 100)\n",
    "y = np.exp(-x)\n",
    "# Create the plot\n",
    "fig, ax = plt.subplots()\n",
    "plt.plot(x, y, label='f(x) = exp(-x)', linewidth=3, color='palegreen')\n",
    "# Make the x=0, y=0 thicker\n",
    "ax.set_aspect('equal')\n",
    "ax.grid(True, which='both')\n",
    "ax.axhline(y=0, color='k')\n",
    "ax.axvline(x=0, color='k')\n",
    "# Add a title\n",
    "plt.title('f(x) = exp(-x)', fontsize=20)\n",
    "# Add X and y Label\n",
    "plt.xlabel('x', fontsize=16)\n",
    "plt.ylabel('f(x)', fontsize=16)\n",
    "# Add a grid\n",
    "plt.grid(alpha=.4, linestyle='--')\n",
    "# Show the plot\n",
    "plt.show()\n",
    "####################\n",
    "# f(x) = x^z graph #\n",
    "####################\n",
    "import matplotlib.pyplot as plt\n",
    "import numpy as np\n",
    "# Create x and y\n",
    "x = np.linspace(0, 2, 100)\n",
    "y1 = x**1.3\n",
    "y2 = x**2.5 \n",
    "y3 = x**3.8\n",
    "# Create the plot\n",
    "fig, ax = plt.subplots()\n",
    "plt.plot(x, y1, label='f(x) = x^1.3', linewidth=3, color='palegreen')\n",
    "plt.plot(x, y2, label='f(x) = x^2.5', linewidth=3, color='yellowgreen')\n",
    "plt.plot(x, y3, label='f(x) = x^3.8', linewidth=3, color='olivedrab')\n",
    "# Make the x=0, y=0 thicker\n",
    "ax.set_aspect('equal')\n",
    "ax.grid(True, which='both')\n",
    "ax.axhline(y=0, color='k')\n",
    "ax.axvline(x=0, color='k')\n",
    "# Add a title\n",
    "plt.title('f(x) = x^z', fontsize=20)\n",
    "# Add X and y Label\n",
    "plt.xlabel('x', fontsize=16)\n",
    "plt.ylabel('f(x)', fontsize=16)\n",
    "# Add a grid\n",
    "plt.grid(alpha=.4, linestyle='--')\n",
    "# Add a Legend\n",
    "plt.legend(bbox_to_anchor=(1, 1), loc='best', borderaxespad=1, fontsize=12)\n",
    "# Show the plot\n",
    "plt.show()\n",
    "###############################\n",
    "# f(x) = x^(3.8)*e^(-x) graph #\n",
    "###############################\n",
    "import matplotlib.pyplot as plt\n",
    "import numpy as np\n",
    "# Create x and y\n",
    "x = np.linspace(0, 20, 100)\n",
    "y = x**3.8 * np.exp(-x)\n",
    "# Create the plot\n",
    "fig, ax = plt.subplots()\n",
    "plt.plot(x, y, label='f(x) = x^(3.8) * np.exp(-x)', linewidth=3, color='palegreen')\n",
    "ax.fill_between(x, 0, y, color='yellowgreen')\n",
    "# Make the x=0, y=0 thicker\n",
    "ax.set_aspect('equal')\n",
    "ax.grid(True, which='both')\n",
    "ax.axhline(y=0, color='k')\n",
    "ax.axvline(x=0, color='k')\n",
    "# Add a title\n",
    "plt.title('f(x) =  x^(3.8)*e^(-x) ', fontsize=20)\n",
    "# Add X and y Label\n",
    "plt.xlabel('x', fontsize=16)\n",
    "plt.ylabel('f(x)' ,fontsize=16)\n",
    "# Add a grid\n",
    "plt.grid(alpha=.4, linestyle='--')\n",
    "# Add a Legend\n",
    "plt.legend(bbox_to_anchor=(1, 1), loc='upper right', borderaxespad=1, fontsize=12)\n",
    "# Show the plot\n",
    "plt.show()"
   ]
  },
  {
   "cell_type": "code",
   "execution_count": 3,
   "metadata": {
    "scrolled": true
   },
   "outputs": [
    {
     "data": {
      "image/png": "[encoded data removed]",
      "text/plain": [
       "<Figure size 432x288 with 1 Axes>"
      ]
     },
     "metadata": {
      "needs_background": "light"
     },
     "output_type": "display_data"
    }
   ],
   "source": [
    "import matplotlib.pyplot as plt\n",
    "import numpy as np\n",
    "# Create x and y\n",
    "x = np.linspace(-2, 20, 100)\n",
    "y = np.exp(-x)\n",
    "# Create the plot\n",
    "fig, ax = plt.subplots()\n",
    "plt.plot(x, y, label='f(x) = exp(-x)', linewidth=3, color='palegreen')\n",
    "# Make the x=0, y=0 thicker\n",
    "ax.set_aspect('equal')\n",
    "ax.grid(True, which='both')\n",
    "ax.axhline(y=0, color='k')\n",
    "ax.axvline(x=0, color='k')\n",
    "# Add a title\n",
    "plt.title('f(x) = exp(-x)', fontsize=20)\n",
    "# Add X and y Label\n",
    "plt.xlabel('x', fontsize=16)\n",
    "plt.ylabel('f(x)', fontsize=16)\n",
    "# Add a grid\n",
    "plt.grid(alpha=.4, linestyle='--')\n",
    "# Show the plot\n",
    "plt.show()"
   ]
  },
  {
   "cell_type": "code",
   "execution_count": 5,
   "metadata": {},
   "outputs": [
    {
     "data": {
      "image/png": "[encoded data removed]",
      "text/plain": [
       "<Figure size 432x288 with 1 Axes>"
      ]
     },
     "metadata": {
      "needs_background": "light"
     },
     "output_type": "display_data"
    }
   ],
   "source": [
    "import matplotlib.pyplot as plt\n",
    "import numpy as np\n",
    "# Create x and y\n",
    "x = np.linspace(0, 2, 100)\n",
    "y1 = x**1.3\n",
    "y2 = x**2.5 \n",
    "y3 = x**3.8\n",
    "# Create the plot\n",
    "fig, ax = plt.subplots()\n",
    "plt.plot(x, y1, label='f(x) = x^1.3', linewidth=3, color='palegreen')\n",
    "plt.plot(x, y2, label='f(x) = x^2.5', linewidth=3, color='yellowgreen')\n",
    "plt.plot(x, y3, label='f(x) = x^3.8', linewidth=3, color='olivedrab')\n",
    "# Make the x=0, y=0 thicker\n",
    "ax.set_aspect('equal')\n",
    "ax.grid(True, which='both')\n",
    "ax.axhline(y=0, color='k')\n",
    "ax.axvline(x=0, color='k')\n",
    "# Add a title\n",
    "plt.title('f(x) = x^z', fontsize=20)\n",
    "# Add X and y Label\n",
    "plt.xlabel('x', fontsize=16)\n",
    "plt.ylabel('f(x)', fontsize=16)\n",
    "# Add a grid\n",
    "plt.grid(alpha=.4, linestyle='--')\n",
    "# Add a Legend\n",
    "plt.legend(bbox_to_anchor=(1, 1), loc='best', borderaxespad=1, fontsize=12)\n",
    "# Show the plot\n",
    "plt.show()"
   ]
  },
  {
   "cell_type": "code",
   "execution_count": 13,
   "metadata": {},
   "outputs": [
    {
     "data": {
      "image/png": "[encoded data removed]",
      "text/plain": [
       "<Figure size 432x288 with 1 Axes>"
      ]
     },
     "metadata": {
      "needs_background": "light"
     },
     "output_type": "display_data"
    }
   ],
   "source": [
    "###############################\n",
    "# f(x) = x^(3.8)*e^(-x) graph #\n",
    "###############################\n",
    "import matplotlib.pyplot as plt\n",
    "import numpy as np\n",
    "# Create x and y\n",
    "x = np.linspace(0, 20, 100)\n",
    "y = x**3.8 * np.exp(-x)\n",
    "# Create the plot\n",
    "fig, ax = plt.subplots()\n",
    "plt.plot(x, y, label='f(x) = x^(3.8) * np.exp(-x)', linewidth=3, color='palegreen')\n",
    "ax.fill_between(x, 0, y, color='yellowgreen')\n",
    "# Make the x=0, y=0 thicker\n",
    "ax.set_aspect('equal')\n",
    "ax.grid(True, which='both')\n",
    "ax.axhline(y=0, color='k')\n",
    "ax.axvline(x=0, color='k')\n",
    "# Add a title\n",
    "plt.title('f(x) =  x^(3.8)*e^(-x) ', fontsize=20)\n",
    "# Add X and y Label\n",
    "plt.xlabel('x', fontsize=16)\n",
    "plt.ylabel('f(x)' ,fontsize=16)\n",
    "# Add a grid\n",
    "plt.grid(alpha=.4, linestyle='--')\n",
    "# Add a Legend\n",
    "plt.legend(bbox_to_anchor=(1, 1), loc='upper right', borderaxespad=1, fontsize=12)\n",
    "# Show the plot\n",
    "plt.show()"
   ]
  },
  {
   "cell_type": "code",
   "execution_count": 15,
   "metadata": {},
   "outputs": [
    {
     "data": {
      "text/plain": [
       "array([[[1, 2],\n",
       "        [3, 4]],\n",
       "\n",
       "       [[5, 6],\n",
       "        [7, 8]]])"
      ]
     },
     "execution_count": 15,
     "metadata": {},
     "output_type": "execute_result"
    }
   ],
   "source": [
    "x = np.array([[[1,2],[3,4]],[[5,6],[7,8]]])\n",
    "x"
   ]
  },
  {
   "cell_type": "code",
   "execution_count": 16,
   "metadata": {
    "collapsed": true
   },
   "outputs": [],
   "source": [
    "y=np.array([[1,2],[3,4]])"
   ]
  },
  {
   "cell_type": "code",
   "execution_count": 22,
   "metadata": {},
   "outputs": [
    {
     "data": {
      "text/plain": [
       "array([7, 8])"
      ]
     },
     "execution_count": 22,
     "metadata": {},
     "output_type": "execute_result"
    }
   ],
   "source": [
    "x[1][1]"
   ]
  },
  {
   "cell_type": "code",
   "execution_count": 24,
   "metadata": {},
   "outputs": [
    {
     "data": {
      "text/plain": [
       "array([[ 6,  8],\n",
       "       [10, 12]])"
      ]
     },
     "execution_count": 24,
     "metadata": {},
     "output_type": "execute_result"
    }
   ],
   "source": [
    "np.sum(x, axis=0)"
   ]
  },
  {
   "cell_type": "code",
   "execution_count": 26,
   "metadata": {},
   "outputs": [],
   "source": [
    "a=np.array([1,2,3,4])\n",
    "b=np.array([5,6,7,8])"
   ]
  },
  {
   "cell_type": "code",
   "execution_count": 30,
   "metadata": {},
   "outputs": [
    {
     "name": "stdout",
     "output_type": "stream",
     "text": [
      "(4,) [1 2 3 4]\n"
     ]
    }
   ],
   "source": [
    "print( a.shape, a)"
   ]
  },
  {
   "cell_type": "code",
   "execution_count": 32,
   "metadata": {},
   "outputs": [],
   "source": [
    "c=np.array([a,b])"
   ]
  },
  {
   "cell_type": "code",
   "execution_count": 33,
   "metadata": {},
   "outputs": [
    {
     "data": {
      "text/plain": [
       "array([[1, 2, 3, 4],\n",
       "       [5, 6, 7, 8]])"
      ]
     },
     "execution_count": 33,
     "metadata": {},
     "output_type": "execute_result"
    }
   ],
   "source": [
    "c"
   ]
  },
  {
   "cell_type": "code",
   "execution_count": 35,
   "metadata": {},
   "outputs": [
    {
     "data": {
      "text/plain": [
       "array([10, 26])"
      ]
     },
     "execution_count": 35,
     "metadata": {},
     "output_type": "execute_result"
    }
   ],
   "source": [
    "c.sum(axis=1)"
   ]
  },
  {
   "cell_type": "code",
   "execution_count": 55,
   "metadata": {
    "scrolled": true
   },
   "outputs": [
    {
     "data": {
      "text/plain": [
       "array([[[ 1,  2,  3,  4],\n",
       "        [ 5,  6,  5,  6]],\n",
       "\n",
       "       [[ 5,  6,  7,  8],\n",
       "        [ 7,  8,  9, 10]],\n",
       "\n",
       "       [[ 0,  1,  2,  3],\n",
       "        [ 4,  5,  6,  7]]])"
      ]
     },
     "execution_count": 55,
     "metadata": {},
     "output_type": "execute_result"
    }
   ],
   "source": [
    "x = np.array([[[1,2,3,4],[5,6,5,6]],[[5,6,7,8],[7,8,9,10]],[[0,1,2,3],[4,5,6,7]]])\n",
    "x"
   ]
  },
  {
   "cell_type": "code",
   "execution_count": 56,
   "metadata": {},
   "outputs": [
    {
     "data": {
      "text/plain": [
       "(3, 2, 4)"
      ]
     },
     "execution_count": 56,
     "metadata": {},
     "output_type": "execute_result"
    }
   ],
   "source": [
    "x.shape"
   ]
  },
  {
   "cell_type": "code",
   "execution_count": 57,
   "metadata": {},
   "outputs": [
    {
     "data": {
      "text/plain": [
       "5"
      ]
     },
     "execution_count": 57,
     "metadata": {},
     "output_type": "execute_result"
    }
   ],
   "source": [
    "x[0][1][2]"
   ]
  },
  {
   "cell_type": "code",
   "execution_count": 65,
   "metadata": {},
   "outputs": [
    {
     "data": {
      "text/plain": [
       "array([[ 6,  9, 12, 15],\n",
       "       [16, 19, 20, 23]])"
      ]
     },
     "execution_count": 65,
     "metadata": {},
     "output_type": "execute_result"
    }
   ],
   "source": [
    "x.sum(axis=0)"
   ]
  },
  {
   "cell_type": "code",
   "execution_count": 59,
   "metadata": {},
   "outputs": [
    {
     "data": {
      "text/plain": [
       "array([[ 6,  9, 12, 15],\n",
       "       [16, 19, 20, 23]])"
      ]
     },
     "execution_count": 59,
     "metadata": {},
     "output_type": "execute_result"
    }
   ],
   "source": [
    "x.sum(axis=0)"
   ]
  },
  {
   "cell_type": "code",
   "execution_count": 38,
   "metadata": {},
   "outputs": [
    {
     "data": {
      "text/plain": [
       "array([[1, 2],\n",
       "       [3, 4]])"
      ]
     },
     "execution_count": 38,
     "metadata": {},
     "output_type": "execute_result"
    }
   ],
   "source": [
    "x[0]"
   ]
  },
  {
   "cell_type": "code",
   "execution_count": 40,
   "metadata": {},
   "outputs": [
    {
     "data": {
      "text/plain": [
       "array([4, 6])"
      ]
     },
     "execution_count": 40,
     "metadata": {},
     "output_type": "execute_result"
    }
   ],
   "source": [
    "x[0].sum(axis=0)"
   ]
  },
  {
   "cell_type": "code",
   "execution_count": 66,
   "metadata": {
    "collapsed": true
   },
   "outputs": [],
   "source": [
    "a = np.arange(3)"
   ]
  },
  {
   "cell_type": "code",
   "execution_count": 69,
   "metadata": {},
   "outputs": [],
   "source": [
    "m=np.arange(3)"
   ]
  },
  {
   "cell_type": "code",
   "execution_count": 70,
   "metadata": {},
   "outputs": [
    {
     "data": {
      "text/plain": [
       "array([0, 1, 2])"
      ]
     },
     "execution_count": 70,
     "metadata": {},
     "output_type": "execute_result"
    }
   ],
   "source": [
    "m"
   ]
  }
 ],
 "metadata": {
  "kernelspec": {
   "display_name": "Python 3",
   "language": "python",
   "name": "python3"
  },
  "language_info": {
   "codemirror_mode": {
    "name": "ipython",
    "version": 3
   },
   "file_extension": ".py",
   "mimetype": "text/x-python",
   "name": "python",
   "nbconvert_exporter": "python",
   "pygments_lexer": "ipython3",
   "version": "3.6.8"
  }
 },
 "nbformat": 4,
 "nbformat_minor": 2
}
